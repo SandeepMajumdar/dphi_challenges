{
 "cells": [
  {
   "cell_type": "markdown",
   "id": "56d3043f",
   "metadata": {},
   "source": [
    "# This notebook submits results to the DPhi challenge: https://dphi.tech/challenges/data-sprint-89-sensor-fusion-smoke-detection-classification/257/overview/about"
   ]
  },
  {
   "cell_type": "markdown",
   "id": "c166ba36",
   "metadata": {},
   "source": [
    "# Methodology:\n",
    "1. Convert the header columns into lowercase and remove whitespaces\n",
    "2. Convert the UTC timestamp into usable features, such as, day of the month, hour of day, and day of the week\n",
    "3. Balance the dataset using target classes\n",
    "4. Use cross validation for selecting the best model\n",
    "5. Visualize the performance, although not required in this case, looking at the metrics\n",
    "6. Use the best model for retraining and predictions, no need to retrain on the entire dataset because the dataset split of 0.25 gave the best metric performance (not shown here)"
   ]
  },
  {
   "cell_type": "markdown",
   "id": "16d138e4",
   "metadata": {},
   "source": [
    "### Import all libraries required"
   ]
  },
  {
   "cell_type": "code",
   "execution_count": 46,
   "id": "9f8d5e84",
   "metadata": {
    "execution": {
     "iopub.execute_input": "2022-09-08T04:49:24.362544Z",
     "iopub.status.busy": "2022-09-08T04:49:24.362141Z",
     "iopub.status.idle": "2022-09-08T04:49:25.433177Z",
     "shell.execute_reply": "2022-09-08T04:49:25.432211Z",
     "shell.execute_reply.started": "2022-09-08T04:49:24.362512Z"
    }
   },
   "outputs": [],
   "source": [
    "import pandas as pd\n",
    "pd.set_option('display.max_columns', None)\n",
    "pd.set_option('display.max_colwidth', None)\n",
    "import numpy as np\n",
    "from sklearn.preprocessing import MinMaxScaler, StandardScaler\n",
    "from sklearn.model_selection import train_test_split, GridSearchCV, KFold, cross_val_score, cross_validate\n",
    "from sklearn.linear_model import LogisticRegression\n",
    "from sklearn.discriminant_analysis import LinearDiscriminantAnalysis\n",
    "from sklearn.neighbors import KNeighborsClassifier\n",
    "from sklearn.naive_bayes import GaussianNB\n",
    "from sklearn.svm import SVC\n",
    "from sklearn.ensemble import RandomForestClassifier, AdaBoostClassifier\n",
    "from sklearn.tree import DecisionTreeClassifier\n",
    "from xgboost import XGBClassifier\n",
    "from sklearn.metrics import accuracy_score as acc, classification_report as cr, ConfusionMatrixDisplay as cm\n",
    "from sklearn.metrics import precision_score as ps, recall_score as rs, f1_score as f1\n",
    "import matplotlib.pyplot as plt\n",
    "%matplotlib inline\n",
    "import seaborn as sns\n",
    "import datetime as dt\n",
    "import time\n",
    "from imblearn.over_sampling import SMOTE"
   ]
  },
  {
   "cell_type": "markdown",
   "id": "a1160411",
   "metadata": {},
   "source": [
    "### Declare the path"
   ]
  },
  {
   "cell_type": "code",
   "execution_count": 8,
   "id": "3da5571d",
   "metadata": {
    "execution": {
     "iopub.execute_input": "2022-09-08T04:49:42.274791Z",
     "iopub.status.busy": "2022-09-08T04:49:42.274358Z",
     "iopub.status.idle": "2022-09-08T04:49:42.280246Z",
     "shell.execute_reply": "2022-09-08T04:49:42.278880Z",
     "shell.execute_reply.started": "2022-09-08T04:49:42.274754Z"
    }
   },
   "outputs": [],
   "source": [
    "train_path = '/home/sandeep/Development/Datasets/Climate/dphi_ds89_smoke_detection/data/train_dataset.csv'\n",
    "test_path = '/home/sandeep/Development/Datasets/Climate/dphi_ds89_smoke_detection/data/test_dataset.csv'"
   ]
  },
  {
   "cell_type": "markdown",
   "id": "20109b43",
   "metadata": {},
   "source": [
    "### Read the csv datasets into pandas dataframes"
   ]
  },
  {
   "cell_type": "code",
   "execution_count": 11,
   "id": "849c211a",
   "metadata": {
    "execution": {
     "iopub.execute_input": "2022-09-08T09:04:58.206179Z",
     "iopub.status.busy": "2022-09-08T09:04:58.205778Z",
     "iopub.status.idle": "2022-09-08T09:04:58.976089Z",
     "shell.execute_reply": "2022-09-08T09:04:58.974437Z",
     "shell.execute_reply.started": "2022-09-08T09:04:58.206147Z"
    }
   },
   "outputs": [
    {
     "data": {
      "text/html": [
       "<div>\n",
       "<style scoped>\n",
       "    .dataframe tbody tr th:only-of-type {\n",
       "        vertical-align: middle;\n",
       "    }\n",
       "\n",
       "    .dataframe tbody tr th {\n",
       "        vertical-align: top;\n",
       "    }\n",
       "\n",
       "    .dataframe thead th {\n",
       "        text-align: right;\n",
       "    }\n",
       "</style>\n",
       "<table border=\"1\" class=\"dataframe\">\n",
       "  <thead>\n",
       "    <tr style=\"text-align: right;\">\n",
       "      <th></th>\n",
       "      <th>UTC</th>\n",
       "      <th>Temperature[C]</th>\n",
       "      <th>Humidity[%]</th>\n",
       "      <th>TVOC[ppb]</th>\n",
       "      <th>eCO2[ppm]</th>\n",
       "      <th>Raw H2</th>\n",
       "      <th>Raw Ethanol</th>\n",
       "      <th>Pressure[hPa]</th>\n",
       "      <th>PM1.0</th>\n",
       "      <th>PM2.5</th>\n",
       "      <th>NC0.5</th>\n",
       "      <th>NC1.0</th>\n",
       "      <th>NC2.5</th>\n",
       "      <th>CNT</th>\n",
       "      <th>Fire Alarm</th>\n",
       "    </tr>\n",
       "  </thead>\n",
       "  <tbody>\n",
       "    <tr>\n",
       "      <th>0</th>\n",
       "      <td>1655127646</td>\n",
       "      <td>15.127</td>\n",
       "      <td>42.98</td>\n",
       "      <td>199</td>\n",
       "      <td>426</td>\n",
       "      <td>12775</td>\n",
       "      <td>20524</td>\n",
       "      <td>937.42</td>\n",
       "      <td>1.55</td>\n",
       "      <td>1.61</td>\n",
       "      <td>10.66</td>\n",
       "      <td>1.663</td>\n",
       "      <td>0.038</td>\n",
       "      <td>3338</td>\n",
       "      <td>0</td>\n",
       "    </tr>\n",
       "  </tbody>\n",
       "</table>\n",
       "</div>"
      ],
      "text/plain": [
       "          UTC  Temperature[C]  Humidity[%]  TVOC[ppb]  eCO2[ppm]  Raw H2  \\\n",
       "0  1655127646          15.127        42.98        199        426   12775   \n",
       "\n",
       "   Raw Ethanol  Pressure[hPa]  PM1.0  PM2.5  NC0.5  NC1.0  NC2.5   CNT  \\\n",
       "0        20524         937.42   1.55   1.61  10.66  1.663  0.038  3338   \n",
       "\n",
       "   Fire Alarm  \n",
       "0           0  "
      ]
     },
     "metadata": {},
     "output_type": "display_data"
    },
    {
     "data": {
      "text/html": [
       "<div>\n",
       "<style scoped>\n",
       "    .dataframe tbody tr th:only-of-type {\n",
       "        vertical-align: middle;\n",
       "    }\n",
       "\n",
       "    .dataframe tbody tr th {\n",
       "        vertical-align: top;\n",
       "    }\n",
       "\n",
       "    .dataframe thead th {\n",
       "        text-align: right;\n",
       "    }\n",
       "</style>\n",
       "<table border=\"1\" class=\"dataframe\">\n",
       "  <thead>\n",
       "    <tr style=\"text-align: right;\">\n",
       "      <th></th>\n",
       "      <th>UTC</th>\n",
       "      <th>Temperature[C]</th>\n",
       "      <th>Humidity[%]</th>\n",
       "      <th>TVOC[ppb]</th>\n",
       "      <th>eCO2[ppm]</th>\n",
       "      <th>Raw H2</th>\n",
       "      <th>Raw Ethanol</th>\n",
       "      <th>Pressure[hPa]</th>\n",
       "      <th>PM1.0</th>\n",
       "      <th>PM2.5</th>\n",
       "      <th>NC0.5</th>\n",
       "      <th>NC1.0</th>\n",
       "      <th>NC2.5</th>\n",
       "      <th>CNT</th>\n",
       "    </tr>\n",
       "  </thead>\n",
       "  <tbody>\n",
       "    <tr>\n",
       "      <th>0</th>\n",
       "      <td>1655127087</td>\n",
       "      <td>17.511</td>\n",
       "      <td>49.0</td>\n",
       "      <td>162</td>\n",
       "      <td>438</td>\n",
       "      <td>12773</td>\n",
       "      <td>20557</td>\n",
       "      <td>937.384</td>\n",
       "      <td>1.55</td>\n",
       "      <td>1.61</td>\n",
       "      <td>10.68</td>\n",
       "      <td>1.665</td>\n",
       "      <td>0.038</td>\n",
       "      <td>2779</td>\n",
       "    </tr>\n",
       "  </tbody>\n",
       "</table>\n",
       "</div>"
      ],
      "text/plain": [
       "          UTC  Temperature[C]  Humidity[%]  TVOC[ppb]  eCO2[ppm]  Raw H2  \\\n",
       "0  1655127087          17.511         49.0        162        438   12773   \n",
       "\n",
       "   Raw Ethanol  Pressure[hPa]  PM1.0  PM2.5  NC0.5  NC1.0  NC2.5   CNT  \n",
       "0        20557        937.384   1.55   1.61  10.68  1.665  0.038  2779  "
      ]
     },
     "metadata": {},
     "output_type": "display_data"
    }
   ],
   "source": [
    "train_df = pd.read_csv(train_path)\n",
    "test_df = pd.read_csv(test_path)\n",
    "display(train_df.head(1))\n",
    "display(test_df.head(1))"
   ]
  },
  {
   "cell_type": "markdown",
   "id": "19904b42",
   "metadata": {},
   "source": [
    "# Convert the column headers to lowercase without whitespaces"
   ]
  },
  {
   "cell_type": "code",
   "execution_count": 12,
   "id": "1fb110f3",
   "metadata": {},
   "outputs": [
    {
     "data": {
      "text/html": [
       "<div>\n",
       "<style scoped>\n",
       "    .dataframe tbody tr th:only-of-type {\n",
       "        vertical-align: middle;\n",
       "    }\n",
       "\n",
       "    .dataframe tbody tr th {\n",
       "        vertical-align: top;\n",
       "    }\n",
       "\n",
       "    .dataframe thead th {\n",
       "        text-align: right;\n",
       "    }\n",
       "</style>\n",
       "<table border=\"1\" class=\"dataframe\">\n",
       "  <thead>\n",
       "    <tr style=\"text-align: right;\">\n",
       "      <th></th>\n",
       "      <th>utc</th>\n",
       "      <th>temperature_c_</th>\n",
       "      <th>humidity_</th>\n",
       "      <th>tvoc_ppb_</th>\n",
       "      <th>eco2_ppm_</th>\n",
       "      <th>raw_h2</th>\n",
       "      <th>raw_ethanol</th>\n",
       "      <th>pressure_hpa_</th>\n",
       "      <th>pm1_0</th>\n",
       "      <th>pm2_5</th>\n",
       "      <th>nc0_5</th>\n",
       "      <th>nc1_0</th>\n",
       "      <th>nc2_5</th>\n",
       "      <th>cnt</th>\n",
       "      <th>fire_alarm</th>\n",
       "    </tr>\n",
       "  </thead>\n",
       "  <tbody>\n",
       "    <tr>\n",
       "      <th>0</th>\n",
       "      <td>1655127646</td>\n",
       "      <td>15.127</td>\n",
       "      <td>42.98</td>\n",
       "      <td>199</td>\n",
       "      <td>426</td>\n",
       "      <td>12775</td>\n",
       "      <td>20524</td>\n",
       "      <td>937.42</td>\n",
       "      <td>1.55</td>\n",
       "      <td>1.61</td>\n",
       "      <td>10.66</td>\n",
       "      <td>1.663</td>\n",
       "      <td>0.038</td>\n",
       "      <td>3338</td>\n",
       "      <td>0</td>\n",
       "    </tr>\n",
       "  </tbody>\n",
       "</table>\n",
       "</div>"
      ],
      "text/plain": [
       "          utc  temperature_c_  humidity_  tvoc_ppb_  eco2_ppm_  raw_h2  \\\n",
       "0  1655127646          15.127      42.98        199        426   12775   \n",
       "\n",
       "   raw_ethanol  pressure_hpa_  pm1_0  pm2_5  nc0_5  nc1_0  nc2_5   cnt  \\\n",
       "0        20524         937.42   1.55   1.61  10.66  1.663  0.038  3338   \n",
       "\n",
       "   fire_alarm  \n",
       "0           0  "
      ]
     },
     "execution_count": 12,
     "metadata": {},
     "output_type": "execute_result"
    }
   ],
   "source": [
    "import re\n",
    "cols = list(train_df.columns)\n",
    "cols = map(lambda x: re.sub('[^A-Za-z0-9]+', '_', x).lower(), cols)\n",
    "train_df.columns = cols\n",
    "train_df.head(1)"
   ]
  },
  {
   "cell_type": "code",
   "execution_count": 13,
   "id": "65dd55ec",
   "metadata": {},
   "outputs": [
    {
     "data": {
      "text/html": [
       "<div>\n",
       "<style scoped>\n",
       "    .dataframe tbody tr th:only-of-type {\n",
       "        vertical-align: middle;\n",
       "    }\n",
       "\n",
       "    .dataframe tbody tr th {\n",
       "        vertical-align: top;\n",
       "    }\n",
       "\n",
       "    .dataframe thead th {\n",
       "        text-align: right;\n",
       "    }\n",
       "</style>\n",
       "<table border=\"1\" class=\"dataframe\">\n",
       "  <thead>\n",
       "    <tr style=\"text-align: right;\">\n",
       "      <th></th>\n",
       "      <th>utc</th>\n",
       "      <th>temperature_c_</th>\n",
       "      <th>humidity_</th>\n",
       "      <th>tvoc_ppb_</th>\n",
       "      <th>eco2_ppm_</th>\n",
       "      <th>raw_h2</th>\n",
       "      <th>raw_ethanol</th>\n",
       "      <th>pressure_hpa_</th>\n",
       "      <th>pm1_0</th>\n",
       "      <th>pm2_5</th>\n",
       "      <th>nc0_5</th>\n",
       "      <th>nc1_0</th>\n",
       "      <th>nc2_5</th>\n",
       "      <th>cnt</th>\n",
       "    </tr>\n",
       "  </thead>\n",
       "  <tbody>\n",
       "    <tr>\n",
       "      <th>0</th>\n",
       "      <td>1655127087</td>\n",
       "      <td>17.511</td>\n",
       "      <td>49.0</td>\n",
       "      <td>162</td>\n",
       "      <td>438</td>\n",
       "      <td>12773</td>\n",
       "      <td>20557</td>\n",
       "      <td>937.384</td>\n",
       "      <td>1.55</td>\n",
       "      <td>1.61</td>\n",
       "      <td>10.68</td>\n",
       "      <td>1.665</td>\n",
       "      <td>0.038</td>\n",
       "      <td>2779</td>\n",
       "    </tr>\n",
       "  </tbody>\n",
       "</table>\n",
       "</div>"
      ],
      "text/plain": [
       "          utc  temperature_c_  humidity_  tvoc_ppb_  eco2_ppm_  raw_h2  \\\n",
       "0  1655127087          17.511       49.0        162        438   12773   \n",
       "\n",
       "   raw_ethanol  pressure_hpa_  pm1_0  pm2_5  nc0_5  nc1_0  nc2_5   cnt  \n",
       "0        20557        937.384   1.55   1.61  10.68  1.665  0.038  2779  "
      ]
     },
     "execution_count": 13,
     "metadata": {},
     "output_type": "execute_result"
    }
   ],
   "source": [
    "cols = list(test_df.columns)\n",
    "cols = map(lambda x: re.sub('[^A-Za-z0-9]+', '_', x).lower(), cols)\n",
    "test_df.columns = cols\n",
    "test_df.head(1)"
   ]
  },
  {
   "cell_type": "markdown",
   "id": "5a128666",
   "metadata": {},
   "source": [
    "# Create day of month, hour, and weekday features from UTC datetime"
   ]
  },
  {
   "cell_type": "code",
   "execution_count": 14,
   "id": "601b8139",
   "metadata": {},
   "outputs": [],
   "source": [
    "train_df['mday'] = train_df.utc.apply(lambda x: time.localtime(x).tm_mday)\n",
    "train_df['hour'] = train_df.utc.apply(lambda x: time.localtime(x).tm_hour)\n",
    "train_df['wday'] = train_df.utc.apply(lambda x: time.localtime(x).tm_wday)\n",
    "test_df['mday'] = test_df.utc.apply(lambda x: time.localtime(x).tm_mday)\n",
    "test_df['hour'] = test_df.utc.apply(lambda x: time.localtime(x).tm_hour)\n",
    "test_df['wday'] = test_df.utc.apply(lambda x: time.localtime(x).tm_wday)"
   ]
  },
  {
   "cell_type": "markdown",
   "id": "94f65743",
   "metadata": {},
   "source": [
    "# Separate into dependent and independent features"
   ]
  },
  {
   "cell_type": "code",
   "execution_count": 16,
   "id": "99d1b937",
   "metadata": {},
   "outputs": [],
   "source": [
    "train_X = train_df.drop(['fire_alarm','utc'], axis=1).copy()\n",
    "train_y = train_df.fire_alarm.copy()\n",
    "final_X = test_df.drop('utc', axis=1).copy()"
   ]
  },
  {
   "cell_type": "markdown",
   "id": "8ab11cdf",
   "metadata": {},
   "source": [
    "# Visualize the data"
   ]
  },
  {
   "cell_type": "code",
   "execution_count": 18,
   "id": "deaeacfc",
   "metadata": {},
   "outputs": [
    {
     "data": {
      "image/png": "[encoded data removed]",
      "text/plain": [
       "<Figure size 432x288 with 16 Axes>"
      ]
     },
     "metadata": {
      "needs_background": "light"
     },
     "output_type": "display_data"
    }
   ],
   "source": [
    "train_X.hist()\n",
    "plt.show()"
   ]
  },
  {
   "cell_type": "code",
   "execution_count": 20,
   "id": "fe773105",
   "metadata": {},
   "outputs": [
    {
     "data": {
      "image/png": "[encoded data removed]",
      "text/plain": [
       "<Figure size 432x288 with 1 Axes>"
      ]
     },
     "metadata": {
      "needs_background": "light"
     },
     "output_type": "display_data"
    }
   ],
   "source": [
    "train_y.hist()\n",
    "plt.show()"
   ]
  },
  {
   "cell_type": "markdown",
   "id": "362de92f",
   "metadata": {},
   "source": [
    "# The target classes are imbalanced, positive fire alarm cases are a little less than half of that of no alarm"
   ]
  },
  {
   "cell_type": "markdown",
   "id": "a679a52e",
   "metadata": {},
   "source": [
    "# Let's balance the data by carrying out minority oversampling"
   ]
  },
  {
   "cell_type": "code",
   "execution_count": 22,
   "id": "947a010f",
   "metadata": {},
   "outputs": [],
   "source": [
    "sm = SMOTE()\n",
    "X, y=sm.fit_resample(train_X, train_y)"
   ]
  },
  {
   "cell_type": "code",
   "execution_count": 29,
   "id": "08c9c592",
   "metadata": {},
   "outputs": [
    {
     "data": {
      "image/png": "[encoded data removed]",
      "text/plain": [
       "<Figure size 432x288 with 1 Axes>"
      ]
     },
     "metadata": {
      "needs_background": "light"
     },
     "output_type": "display_data"
    },
    {
     "data": {
      "image/png": "[encoded data removed]",
      "text/plain": [
       "<Figure size 432x288 with 1 Axes>"
      ]
     },
     "metadata": {
      "needs_background": "light"
     },
     "output_type": "display_data"
    }
   ],
   "source": [
    "train_y.hist()\n",
    "plt.title('Original Classes')\n",
    "plt.show()\n",
    "y.hist()\n",
    "plt.title('Classes After Minority Oversampling')\n",
    "plt.show()"
   ]
  },
  {
   "cell_type": "markdown",
   "id": "34a41927",
   "metadata": {},
   "source": [
    "# Train Test Split"
   ]
  },
  {
   "cell_type": "code",
   "execution_count": 30,
   "id": "92f4eff8",
   "metadata": {},
   "outputs": [],
   "source": [
    "X_train, X_test, y_train, y_test = train_test_split(X, y, test_size=0.25, random_state=42)"
   ]
  },
  {
   "cell_type": "markdown",
   "id": "7d68347f",
   "metadata": {},
   "source": [
    "# Cross Validation for model selection"
   ]
  },
  {
   "cell_type": "markdown",
   "id": "ebbaed64",
   "metadata": {},
   "source": [
    "# Define the models for classification"
   ]
  },
  {
   "cell_type": "code",
   "execution_count": 39,
   "id": "7214ab5a",
   "metadata": {},
   "outputs": [],
   "source": [
    "models = {'LOG': LogisticRegression(max_iter=500, solver='liblinear'),\n",
    "         'LDA': LinearDiscriminantAnalysis(),\n",
    "         'KNN': KNeighborsClassifier(),\n",
    "         'GNB': GaussianNB(),\n",
    "         'DCT': DecisionTreeClassifier(),\n",
    "         'SVM': SVC(),\n",
    "          'RFC': RandomForestClassifier(),\n",
    "          'ADA': AdaBoostClassifier(),\n",
    "         'XGB': XGBClassifier(use_label_encoder=False, eval_metric='logloss'),\n",
    "        }"
   ]
  },
  {
   "cell_type": "markdown",
   "id": "c7f363ab",
   "metadata": {},
   "source": [
    "# Evaluate each model in turn using cross validation score on the training data. Metrics: Accuracy, Precision, Recall, F1 Score"
   ]
  },
  {
   "cell_type": "code",
   "execution_count": 42,
   "id": "6da7b8cf",
   "metadata": {},
   "outputs": [
    {
     "name": "stdout",
     "output_type": "stream",
     "text": [
      "LOG: Acc: 0.990,Prec: 0.998, Rec: 0.982, F1: 0.990\n",
      "LDA: Acc: 0.981,Prec: 0.996, Rec: 0.966, F1: 0.980\n",
      "KNN: Acc: 0.998,Prec: 0.998, Rec: 0.998, F1: 0.998\n",
      "GNB: Acc: 0.808,Prec: 0.732, Rec: 0.972, F1: 0.835\n",
      "DCT: Acc: 0.999,Prec: 0.999, Rec: 0.999, F1: 0.999\n",
      "SVM: Acc: 0.951,Prec: 0.988, Rec: 0.913, F1: 0.949\n",
      "RFC: Acc: 1.000,Prec: 1.000, Rec: 1.000, F1: 1.000\n",
      "ADA: Acc: 1.000,Prec: 1.000, Rec: 0.999, F1: 1.000\n",
      "XGB: Acc: 0.999,Prec: 0.999, Rec: 1.000, F1: 0.999\n"
     ]
    }
   ],
   "source": [
    "for name, model in models.items():\n",
    "    kfold = KFold(n_splits=5, shuffle=True, random_state=42)\n",
    "    cv_results = cross_validate(model, X_train, y_train, cv=kfold, scoring=['accuracy', 'precision', 'recall', 'f1'])\n",
    "    print(f\"{name}: Acc: {cv_results['test_accuracy'].mean():.3f},\\\n",
    "Prec: {cv_results['test_precision'].mean():.3f}, Rec: {cv_results['test_recall'].mean():.3f}, \\\n",
    "F1: {cv_results['test_f1'].mean():.3f}\")"
   ]
  },
  {
   "cell_type": "markdown",
   "id": "7845286b",
   "metadata": {},
   "source": [
    "# Default Random Forest Classifier is giving the best result with max performance. We will use this for predictions"
   ]
  },
  {
   "cell_type": "code",
   "execution_count": 55,
   "id": "ac8b6926",
   "metadata": {},
   "outputs": [
    {
     "name": "stdout",
     "output_type": "stream",
     "text": [
      "Acc: 1.0000, Prec: 1.0000,Rec; 1.0000, F1: 1.0000\n"
     ]
    }
   ],
   "source": [
    "model = RandomForestClassifier()\n",
    "model.fit(X_train, y_train)\n",
    "preds = model.predict(X_test)\n",
    "print(f'Acc: {acc(y_test, preds):0.4f}, Prec: {ps(y_test, preds):0.4f},\\\n",
    "Rec; {rs(y_test, preds):0.4f}, F1: {f1(y_test, preds):0.4f}')"
   ]
  },
  {
   "cell_type": "markdown",
   "id": "61f6b408",
   "metadata": {},
   "source": [
    "# Confusion Matrix"
   ]
  },
  {
   "cell_type": "code",
   "execution_count": 49,
   "id": "01d44c98",
   "metadata": {},
   "outputs": [
    {
     "data": {
      "image/png": "[encoded data removed]",
      "text/plain": [
       "<Figure size 432x288 with 2 Axes>"
      ]
     },
     "metadata": {
      "needs_background": "light"
     },
     "output_type": "display_data"
    }
   ],
   "source": [
    "cm.from_predictions(y_test, preds)\n",
    "plt.show()"
   ]
  },
  {
   "cell_type": "markdown",
   "id": "45a240ce",
   "metadata": {},
   "source": [
    "# Classification Report"
   ]
  },
  {
   "cell_type": "code",
   "execution_count": 52,
   "id": "d8d28fde",
   "metadata": {},
   "outputs": [
    {
     "name": "stdout",
     "output_type": "stream",
     "text": [
      "              precision    recall  f1-score   support\n",
      "\n",
      "           0       1.00      1.00      1.00       903\n",
      "           1       1.00      1.00      1.00       905\n",
      "\n",
      "    accuracy                           1.00      1808\n",
      "   macro avg       1.00      1.00      1.00      1808\n",
      "weighted avg       1.00      1.00      1.00      1808\n",
      "\n"
     ]
    }
   ],
   "source": [
    "print(cr(y_test,preds))"
   ]
  },
  {
   "cell_type": "markdown",
   "id": "7fa99e19",
   "metadata": {},
   "source": [
    "# Feature Importances"
   ]
  },
  {
   "cell_type": "code",
   "execution_count": 57,
   "id": "c55281a2",
   "metadata": {},
   "outputs": [
    {
     "data": {
      "text/plain": [
       "<AxesSubplot:title={'center':'Feature Importances'}, ylabel='FN'>"
      ]
     },
     "execution_count": 57,
     "metadata": {},
     "output_type": "execute_result"
    },
    {
     "data": {
      "image/png": "[encoded data removed]",
      "text/plain": [
       "<Figure size 432x288 with 1 Axes>"
      ]
     },
     "metadata": {
      "needs_background": "light"
     },
     "output_type": "display_data"
    }
   ],
   "source": [
    "ax = pd.DataFrame(sorted(list(zip(model.feature_importances_, model.feature_names_in_)), \n",
    "                        key=lambda x:x[0]), columns=['FE', 'FN'])\n",
    "ax.set_index('FN', inplace=True)\n",
    "ax.plot(kind='barh', title='Feature Importances')"
   ]
  },
  {
   "cell_type": "markdown",
   "id": "acea7166",
   "metadata": {},
   "source": [
    "# Predictions"
   ]
  },
  {
   "cell_type": "code",
   "execution_count": 58,
   "id": "caa154d5",
   "metadata": {},
   "outputs": [],
   "source": [
    "final_preds = pd.DataFrame(model.predict(final_X), columns=['Fire Alarm'])\n",
    "final_preds.to_csv('/home/sandeep/Development/Datasets/Climate/dphi_ds89_smoke_detection/submission/sub4.csv', \n",
    "                   index=False)"
   ]
  },
  {
   "cell_type": "code",
   "execution_count": null,
   "id": "18b795c4",
   "metadata": {},
   "outputs": [],
   "source": []
  }
 ],
 "metadata": {
  "kernelspec": {
   "display_name": "Python 3 (ipykernel)",
   "language": "python",
   "name": "python3"
  },
  "language_info": {
   "codemirror_mode": {
    "name": "ipython",
    "version": 3
   },
   "file_extension": ".py",
   "mimetype": "text/x-python",
   "name": "python",
   "nbconvert_exporter": "python",
   "pygments_lexer": "ipython3",
   "version": "3.7.13"
  }
 },
 "nbformat": 4,
 "nbformat_minor": 5
}
