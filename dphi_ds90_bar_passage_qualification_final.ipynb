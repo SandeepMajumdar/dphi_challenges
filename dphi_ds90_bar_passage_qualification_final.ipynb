{
 "cells": [
  {
   "cell_type": "markdown",
   "id": "56d3043f",
   "metadata": {},
   "source": [
    "# This notebook submits results to the DPhi challenge: https://dphi.tech/challenges/data-sprint-90-bar-passage-qualification/295/submit"
   ]
  },
  {
   "cell_type": "markdown",
   "id": "c166ba36",
   "metadata": {},
   "source": [
    "# Methodology:\n",
    "1. Drop redundant and duplicate columns\n",
    "2. Balancing of dataset using minority oversampling\n",
    "3. Cross validation for selecting good models for finetuning\n",
    "4. Gridsearch CV for selecting best hyperparameters"
   ]
  },
  {
   "cell_type": "markdown",
   "id": "16d138e4",
   "metadata": {},
   "source": [
    "# Import all libraries required"
   ]
  },
  {
   "cell_type": "code",
   "execution_count": 192,
   "id": "9f8d5e84",
   "metadata": {
    "execution": {
     "iopub.execute_input": "2022-09-08T04:49:24.362544Z",
     "iopub.status.busy": "2022-09-08T04:49:24.362141Z",
     "iopub.status.idle": "2022-09-08T04:49:25.433177Z",
     "shell.execute_reply": "2022-09-08T04:49:25.432211Z",
     "shell.execute_reply.started": "2022-09-08T04:49:24.362512Z"
    }
   },
   "outputs": [],
   "source": [
    "import pandas as pd\n",
    "pd.set_option('display.max_columns', None)\n",
    "pd.set_option('display.max_colwidth', None)\n",
    "import numpy as np\n",
    "from sklearn.preprocessing import MinMaxScaler, StandardScaler\n",
    "from sklearn.model_selection import train_test_split, GridSearchCV, KFold, cross_val_score, cross_validate\n",
    "from sklearn.linear_model import LogisticRegression\n",
    "from sklearn.discriminant_analysis import LinearDiscriminantAnalysis\n",
    "from sklearn.neighbors import KNeighborsClassifier\n",
    "from sklearn.naive_bayes import GaussianNB\n",
    "from sklearn.svm import SVC\n",
    "from sklearn.ensemble import RandomForestClassifier, AdaBoostClassifier\n",
    "from sklearn.tree import DecisionTreeClassifier\n",
    "from xgboost import XGBClassifier\n",
    "from sklearn.metrics import accuracy_score as acc, classification_report as cr, ConfusionMatrixDisplay as cm\n",
    "from sklearn.metrics import precision_score as ps, recall_score as rs, f1_score as f1\n",
    "import matplotlib.pyplot as plt\n",
    "%matplotlib inline\n",
    "import seaborn as sns\n",
    "from imblearn.over_sampling import SMOTE"
   ]
  },
  {
   "cell_type": "markdown",
   "id": "a1160411",
   "metadata": {},
   "source": [
    "# Declare the path"
   ]
  },
  {
   "cell_type": "code",
   "execution_count": 193,
   "id": "3da5571d",
   "metadata": {
    "execution": {
     "iopub.execute_input": "2022-09-08T04:49:42.274791Z",
     "iopub.status.busy": "2022-09-08T04:49:42.274358Z",
     "iopub.status.idle": "2022-09-08T04:49:42.280246Z",
     "shell.execute_reply": "2022-09-08T04:49:42.278880Z",
     "shell.execute_reply.started": "2022-09-08T04:49:42.274754Z"
    }
   },
   "outputs": [],
   "source": [
    "train_path = '/home/sandeep/Development/Datasets/Education/Dphi_DS90_Bar_Passage_Qualification/data/train_dataset.csv'\n",
    "test_path = '/home/sandeep/Development/Datasets/Education/Dphi_DS90_Bar_Passage_Qualification/data/test_dataset.csv'"
   ]
  },
  {
   "cell_type": "markdown",
   "id": "20109b43",
   "metadata": {},
   "source": [
    "# Read the csv datasets into pandas dataframes"
   ]
  },
  {
   "cell_type": "code",
   "execution_count": 194,
   "id": "849c211a",
   "metadata": {
    "execution": {
     "iopub.execute_input": "2022-09-08T09:04:58.206179Z",
     "iopub.status.busy": "2022-09-08T09:04:58.205778Z",
     "iopub.status.idle": "2022-09-08T09:04:58.976089Z",
     "shell.execute_reply": "2022-09-08T09:04:58.974437Z",
     "shell.execute_reply.started": "2022-09-08T09:04:58.206147Z"
    }
   },
   "outputs": [
    {
     "data": {
      "text/html": [
       "<div>\n",
       "<style scoped>\n",
       "    .dataframe tbody tr th:only-of-type {\n",
       "        vertical-align: middle;\n",
       "    }\n",
       "\n",
       "    .dataframe tbody tr th {\n",
       "        vertical-align: top;\n",
       "    }\n",
       "\n",
       "    .dataframe thead th {\n",
       "        text-align: right;\n",
       "    }\n",
       "</style>\n",
       "<table border=\"1\" class=\"dataframe\">\n",
       "  <thead>\n",
       "    <tr style=\"text-align: right;\">\n",
       "      <th></th>\n",
       "      <th>decile3</th>\n",
       "      <th>decile1</th>\n",
       "      <th>sex</th>\n",
       "      <th>lsat</th>\n",
       "      <th>ugpa</th>\n",
       "      <th>grad</th>\n",
       "      <th>fulltime</th>\n",
       "      <th>fam_inc</th>\n",
       "      <th>parttime</th>\n",
       "      <th>male</th>\n",
       "      <th>race1</th>\n",
       "      <th>tier</th>\n",
       "      <th>decile1b</th>\n",
       "      <th>pass_bar</th>\n",
       "    </tr>\n",
       "  </thead>\n",
       "  <tbody>\n",
       "    <tr>\n",
       "      <th>0</th>\n",
       "      <td>9.0</td>\n",
       "      <td>8.0</td>\n",
       "      <td>1.0</td>\n",
       "      <td>40.0</td>\n",
       "      <td>3.7</td>\n",
       "      <td>0</td>\n",
       "      <td>1.0</td>\n",
       "      <td>4.0</td>\n",
       "      <td>0.0</td>\n",
       "      <td>0.0</td>\n",
       "      <td>4</td>\n",
       "      <td>4.0</td>\n",
       "      <td>8.0</td>\n",
       "      <td>1</td>\n",
       "    </tr>\n",
       "  </tbody>\n",
       "</table>\n",
       "</div>"
      ],
      "text/plain": [
       "   decile3  decile1  sex  lsat  ugpa  grad  fulltime  fam_inc  parttime  male  \\\n",
       "0      9.0      8.0  1.0  40.0   3.7     0       1.0      4.0       0.0   0.0   \n",
       "\n",
       "   race1  tier  decile1b  pass_bar  \n",
       "0      4   4.0       8.0         1  "
      ]
     },
     "metadata": {},
     "output_type": "display_data"
    },
    {
     "data": {
      "text/html": [
       "<div>\n",
       "<style scoped>\n",
       "    .dataframe tbody tr th:only-of-type {\n",
       "        vertical-align: middle;\n",
       "    }\n",
       "\n",
       "    .dataframe tbody tr th {\n",
       "        vertical-align: top;\n",
       "    }\n",
       "\n",
       "    .dataframe thead th {\n",
       "        text-align: right;\n",
       "    }\n",
       "</style>\n",
       "<table border=\"1\" class=\"dataframe\">\n",
       "  <thead>\n",
       "    <tr style=\"text-align: right;\">\n",
       "      <th></th>\n",
       "      <th>decile3</th>\n",
       "      <th>decile1</th>\n",
       "      <th>sex</th>\n",
       "      <th>lsat</th>\n",
       "      <th>ugpa</th>\n",
       "      <th>grad</th>\n",
       "      <th>fulltime</th>\n",
       "      <th>fam_inc</th>\n",
       "      <th>parttime</th>\n",
       "      <th>male</th>\n",
       "      <th>race1</th>\n",
       "      <th>tier</th>\n",
       "      <th>decile1b</th>\n",
       "    </tr>\n",
       "  </thead>\n",
       "  <tbody>\n",
       "    <tr>\n",
       "      <th>0</th>\n",
       "      <td>5.0</td>\n",
       "      <td>4.0</td>\n",
       "      <td>1.0</td>\n",
       "      <td>29.0</td>\n",
       "      <td>3.1</td>\n",
       "      <td>0</td>\n",
       "      <td>1.0</td>\n",
       "      <td>3.0</td>\n",
       "      <td>0.0</td>\n",
       "      <td>0.0</td>\n",
       "      <td>4</td>\n",
       "      <td>3.0</td>\n",
       "      <td>3.0</td>\n",
       "    </tr>\n",
       "  </tbody>\n",
       "</table>\n",
       "</div>"
      ],
      "text/plain": [
       "   decile3  decile1  sex  lsat  ugpa  grad  fulltime  fam_inc  parttime  male  \\\n",
       "0      5.0      4.0  1.0  29.0   3.1     0       1.0      3.0       0.0   0.0   \n",
       "\n",
       "   race1  tier  decile1b  \n",
       "0      4   3.0       3.0  "
      ]
     },
     "metadata": {},
     "output_type": "display_data"
    }
   ],
   "source": [
    "train_df = pd.read_csv(train_path)\n",
    "test_df = pd.read_csv(test_path)\n",
    "display(train_df.head(1))\n",
    "display(test_df.head(1))"
   ]
  },
  {
   "cell_type": "markdown",
   "id": "35f40ac7",
   "metadata": {},
   "source": [
    "# Check unique values in columns"
   ]
  },
  {
   "cell_type": "code",
   "execution_count": 195,
   "id": "ba48b563",
   "metadata": {},
   "outputs": [
    {
     "name": "stdout",
     "output_type": "stream",
     "text": [
      "Feature decile3 has 10 in train and 10 in test\n",
      "Feature decile1 has 10 in train and 10 in test\n",
      "Feature sex has 2 in train and 2 in test\n",
      "Feature lsat has 90 in train and 89 in test\n",
      "Feature ugpa has 23 in train and 22 in test\n",
      "Feature grad has 1 in train and 1 in test\n",
      "Feature fulltime has 2 in train and 2 in test\n",
      "Feature fam_inc has 5 in train and 5 in test\n",
      "Feature parttime has 2 in train and 2 in test\n",
      "Feature male has 2 in train and 2 in test\n",
      "Feature race1 has 5 in train and 5 in test\n",
      "Feature tier has 6 in train and 6 in test\n",
      "Feature decile1b has 10 in train and 10 in test\n"
     ]
    }
   ],
   "source": [
    "for i in test_df.columns:\n",
    "    n = train_df[i].nunique()\n",
    "    m = test_df[i].nunique()\n",
    "    print(f'Feature {i} has {n} in train and {m} in test')"
   ]
  },
  {
   "cell_type": "markdown",
   "id": "41d4cae1",
   "metadata": {},
   "source": [
    "# Grad column is useless, drop it"
   ]
  },
  {
   "cell_type": "code",
   "execution_count": 196,
   "id": "ffd3c3d7",
   "metadata": {},
   "outputs": [],
   "source": [
    "train_df.drop('grad',axis=1,inplace=True)\n",
    "test_df.drop('grad',axis=1,inplace=True)"
   ]
  },
  {
   "cell_type": "markdown",
   "id": "33b5b05d",
   "metadata": {},
   "source": [
    "# Columns parttime/fulltime, male/sex are duplicates, drop one from each"
   ]
  },
  {
   "cell_type": "code",
   "execution_count": 197,
   "id": "b1f801b8",
   "metadata": {},
   "outputs": [],
   "source": [
    "train_df.drop(['male','parttime'],axis=1,inplace=True)\n",
    "test_df.drop(['male','parttime'],axis=1,inplace=True)"
   ]
  },
  {
   "cell_type": "markdown",
   "id": "94f65743",
   "metadata": {},
   "source": [
    "# Separate into dependent and independent features"
   ]
  },
  {
   "cell_type": "code",
   "execution_count": 198,
   "id": "99d1b937",
   "metadata": {},
   "outputs": [],
   "source": [
    "train_X = train_df.drop(['pass_bar'], axis=1).copy()\n",
    "train_y = train_df.pass_bar.copy()\n",
    "final_X = test_df.copy()"
   ]
  },
  {
   "cell_type": "markdown",
   "id": "8ab11cdf",
   "metadata": {},
   "source": [
    "# Visualize the features data"
   ]
  },
  {
   "cell_type": "code",
   "execution_count": 199,
   "id": "deaeacfc",
   "metadata": {},
   "outputs": [
    {
     "data": {
      "image/png": "[encoded data removed]",
      "text/plain": [
       "<Figure size 432x288 with 12 Axes>"
      ]
     },
     "metadata": {
      "needs_background": "light"
     },
     "output_type": "display_data"
    }
   ],
   "source": [
    "train_X.hist()\n",
    "plt.show()"
   ]
  },
  {
   "cell_type": "markdown",
   "id": "aa010592",
   "metadata": {},
   "source": [
    "# Visualize the dependent data"
   ]
  },
  {
   "cell_type": "code",
   "execution_count": 200,
   "id": "203a71db",
   "metadata": {},
   "outputs": [
    {
     "data": {
      "image/png": "[encoded data removed]",
      "text/plain": [
       "<Figure size 432x288 with 1 Axes>"
      ]
     },
     "metadata": {
      "needs_background": "light"
     },
     "output_type": "display_data"
    }
   ],
   "source": [
    "train_y.hist()\n",
    "plt.show()"
   ]
  },
  {
   "cell_type": "markdown",
   "id": "362de92f",
   "metadata": {},
   "source": [
    "# The target classes are imbalanced, bar exam failed cases are a small fraction of that of passed ones"
   ]
  },
  {
   "cell_type": "markdown",
   "id": "a679a52e",
   "metadata": {},
   "source": [
    "# Let's balance the data by carrying out minority oversampling"
   ]
  },
  {
   "cell_type": "code",
   "execution_count": 201,
   "id": "947a010f",
   "metadata": {},
   "outputs": [],
   "source": [
    "sm = SMOTE()\n",
    "X, y = sm.fit_resample(train_X, train_y)"
   ]
  },
  {
   "cell_type": "code",
   "execution_count": 202,
   "id": "08c9c592",
   "metadata": {},
   "outputs": [
    {
     "data": {
      "image/png": "[encoded data removed]",
      "text/plain": [
       "<Figure size 432x288 with 1 Axes>"
      ]
     },
     "metadata": {
      "needs_background": "light"
     },
     "output_type": "display_data"
    },
    {
     "data": {
      "image/png": "[encoded data removed]",
      "text/plain": [
       "<Figure size 432x288 with 1 Axes>"
      ]
     },
     "metadata": {
      "needs_background": "light"
     },
     "output_type": "display_data"
    }
   ],
   "source": [
    "train_y.hist()\n",
    "plt.title('Original Classes')\n",
    "plt.show()\n",
    "y.hist()\n",
    "plt.title('Classes After Minority Oversampling')\n",
    "plt.show()"
   ]
  },
  {
   "cell_type": "markdown",
   "id": "34a41927",
   "metadata": {},
   "source": [
    "# Train Test Split"
   ]
  },
  {
   "cell_type": "code",
   "execution_count": 203,
   "id": "92f4eff8",
   "metadata": {},
   "outputs": [],
   "source": [
    "X_train, X_test, y_train, y_test = train_test_split(X, y, test_size=0.2, random_state=42, stratify=y)"
   ]
  },
  {
   "cell_type": "markdown",
   "id": "7d68347f",
   "metadata": {},
   "source": [
    "# Cross Validation for model selection"
   ]
  },
  {
   "cell_type": "markdown",
   "id": "ebbaed64",
   "metadata": {},
   "source": [
    "# Define the models for classification"
   ]
  },
  {
   "cell_type": "code",
   "execution_count": 204,
   "id": "7214ab5a",
   "metadata": {},
   "outputs": [],
   "source": [
    "models = {'LOG': LogisticRegression(max_iter=500, solver='liblinear'),\n",
    "         'LDA': LinearDiscriminantAnalysis(),\n",
    "         'KNN': KNeighborsClassifier(),\n",
    "         'GNB': GaussianNB(),\n",
    "         'DCT': DecisionTreeClassifier(),\n",
    "         'SVM': SVC(),\n",
    "          'RFC': RandomForestClassifier(),\n",
    "          'ADA': AdaBoostClassifier(),\n",
    "         'XGB': XGBClassifier(use_label_encoder=False, eval_metric='logloss'),\n",
    "        }"
   ]
  },
  {
   "cell_type": "markdown",
   "id": "c7f363ab",
   "metadata": {},
   "source": [
    "# Evaluate each model in turn using cross validation score on the training data. Metrics: Accuracy, Precision, Recall, F1 Score"
   ]
  },
  {
   "cell_type": "code",
   "execution_count": 205,
   "id": "6da7b8cf",
   "metadata": {},
   "outputs": [
    {
     "name": "stdout",
     "output_type": "stream",
     "text": [
      "LOG: Acc: 0.820,Prec: 0.842, Rec: 0.787, F1: 0.814\n",
      "LDA: Acc: 0.818,Prec: 0.867, Rec: 0.753, F1: 0.806\n",
      "KNN: Acc: 0.907,Prec: 0.991, Rec: 0.822, F1: 0.898\n",
      "GNB: Acc: 0.791,Prec: 0.829, Rec: 0.734, F1: 0.778\n",
      "DCT: Acc: 0.945,Prec: 0.948, Rec: 0.942, F1: 0.945\n",
      "SVM: Acc: 0.816,Prec: 0.857, Rec: 0.759, F1: 0.805\n",
      "RFC: Acc: 0.972,Prec: 0.969, Rec: 0.974, F1: 0.972\n",
      "ADA: Acc: 0.926,Prec: 0.925, Rec: 0.927, F1: 0.926\n",
      "XGB: Acc: 0.968,Prec: 0.959, Rec: 0.977, F1: 0.968\n"
     ]
    }
   ],
   "source": [
    "for name, model in models.items():\n",
    "    kfold = KFold(n_splits=5, shuffle=True, random_state=42)\n",
    "    cv_results = cross_validate(model, X_train, y_train, cv=kfold, scoring=['accuracy', 'precision', 'recall', 'f1'])\n",
    "    print(f\"{name}: Acc: {cv_results['test_accuracy'].mean():.3f},\\\n",
    "Prec: {cv_results['test_precision'].mean():.3f}, Rec: {cv_results['test_recall'].mean():.3f}, \\\n",
    "F1: {cv_results['test_f1'].mean():.3f}\")"
   ]
  },
  {
   "cell_type": "markdown",
   "id": "7845286b",
   "metadata": {},
   "source": [
    "# Random Forest and XGB Classifiers are good contenders for finetuning and predictions"
   ]
  },
  {
   "cell_type": "markdown",
   "id": "5789312b",
   "metadata": {},
   "source": [
    "# After GridsearchCV, selected XGBoost Classifier for final predictions"
   ]
  },
  {
   "cell_type": "code",
   "execution_count": 206,
   "id": "e3bf6e6a",
   "metadata": {},
   "outputs": [],
   "source": [
    "Params= {'objective': 'binary:logistic', 'use_label_encoder': False, 'base_score': 0.5, \n",
    "         'booster': 'gbtree', 'colsample_bylevel': 0, 'colsample_bynode': 0, 'colsample_bytree': 0, \n",
    "         'enable_categorical': False, 'gamma': 0.0, 'gpu_id': -1, 'importance_type': None, \n",
    "         'interaction_constraints': '', 'learning_rate': 0.1, 'max_delta_step': 0, 'max_depth': 13, \n",
    "         'min_child_weight': 0.5, 'n_estimators': 500, \n",
    "         'n_jobs': 4, 'num_parallel_tree': 1, 'predictor': 'auto', 'random_state': 0, 'reg_alpha': 0, \n",
    "         'reg_lambda': 1, 'scale_pos_weight': 1, 'subsample': 1, 'tree_method': 'exact', \n",
    "         'validate_parameters': 1, 'verbosity': None, 'eval_metric': 'logloss'}"
   ]
  },
  {
   "cell_type": "code",
   "execution_count": 207,
   "id": "1e16b5bf",
   "metadata": {},
   "outputs": [
    {
     "name": "stdout",
     "output_type": "stream",
     "text": [
      "Acc: 0.9779, Prec: 0.9642,Rec: 0.9926, F1: 0.9782\n"
     ]
    }
   ],
   "source": [
    "model = XGBClassifier(**Params      )\n",
    "model.fit(X_train, y_train)\n",
    "preds = model.predict(X_test)\n",
    "print(f'Acc: {acc(y_test, preds):0.4f}, Prec: {ps(y_test, preds):0.4f},\\\n",
    "Rec: {rs(y_test, preds):0.4f}, F1: {f1(y_test, preds):0.4f}')"
   ]
  },
  {
   "cell_type": "markdown",
   "id": "a8d94141",
   "metadata": {},
   "source": [
    "# Feature Importances"
   ]
  },
  {
   "cell_type": "code",
   "execution_count": 208,
   "id": "005d4793",
   "metadata": {},
   "outputs": [
    {
     "data": {
      "image/png": "[encoded data removed]",
      "text/plain": [
       "<Figure size 432x288 with 1 Axes>"
      ]
     },
     "metadata": {
      "needs_background": "light"
     },
     "output_type": "display_data"
    }
   ],
   "source": [
    "ax = pd.DataFrame(sorted(list(zip(model.feature_importances_, train_X.columns)), \n",
    "                        key=lambda x:x[0]), columns=['FE', 'FN'])\n",
    "ax.set_index('FN', inplace=True)\n",
    "ax.plot(kind='barh', title='Feature Importances')\n",
    "plt.show()"
   ]
  },
  {
   "cell_type": "markdown",
   "id": "61f6b408",
   "metadata": {},
   "source": [
    "# Confusion Matrix"
   ]
  },
  {
   "cell_type": "code",
   "execution_count": 209,
   "id": "01d44c98",
   "metadata": {},
   "outputs": [
    {
     "data": {
      "image/png": "[encoded data removed]",
      "text/plain": [
       "<Figure size 432x288 with 2 Axes>"
      ]
     },
     "metadata": {
      "needs_background": "light"
     },
     "output_type": "display_data"
    }
   ],
   "source": [
    "cm.from_predictions(y_test, preds)\n",
    "plt.show()"
   ]
  },
  {
   "cell_type": "markdown",
   "id": "45a240ce",
   "metadata": {},
   "source": [
    "# Classification Report"
   ]
  },
  {
   "cell_type": "code",
   "execution_count": 210,
   "id": "d8d28fde",
   "metadata": {},
   "outputs": [
    {
     "name": "stdout",
     "output_type": "stream",
     "text": [
      "              precision    recall  f1-score   support\n",
      "\n",
      "           0       0.99      0.96      0.98       951\n",
      "           1       0.96      0.99      0.98       950\n",
      "\n",
      "    accuracy                           0.98      1901\n",
      "   macro avg       0.98      0.98      0.98      1901\n",
      "weighted avg       0.98      0.98      0.98      1901\n",
      "\n"
     ]
    }
   ],
   "source": [
    "print(cr(y_test,preds))"
   ]
  },
  {
   "cell_type": "markdown",
   "id": "75813965",
   "metadata": {},
   "source": [
    "# Predictions"
   ]
  },
  {
   "cell_type": "code",
   "execution_count": 211,
   "id": "05ee2da9",
   "metadata": {},
   "outputs": [],
   "source": [
    "final_preds = pd.DataFrame(model.predict(final_X), columns=['pass_bar'])\n",
    "final_preds.to_csv('/home/sandeep/Development/Datasets/Education/Dphi_DS90_Bar_Passage_Qualification/submission/sub.csv', \n",
    "                   index=False)"
   ]
  },
  {
   "cell_type": "code",
   "execution_count": null,
   "id": "bcf0ac28",
   "metadata": {},
   "outputs": [],
   "source": []
  }
 ],
 "metadata": {
  "kernelspec": {
   "display_name": "Python 3 (ipykernel)",
   "language": "python",
   "name": "python3"
  },
  "language_info": {
   "codemirror_mode": {
    "name": "ipython",
    "version": 3
   },
   "file_extension": ".py",
   "mimetype": "text/x-python",
   "name": "python",
   "nbconvert_exporter": "python",
   "pygments_lexer": "ipython3",
   "version": "3.7.13"
  }
 },
 "nbformat": 4,
 "nbformat_minor": 5
}
