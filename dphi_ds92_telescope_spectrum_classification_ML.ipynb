{
 "cells": [
  {
   "cell_type": "markdown",
   "id": "56d3043f",
   "metadata": {},
   "source": [
    "# This notebook submits results to the DPhi challenge: https://dphi.tech/challenges/data-sprint-92-telescope-spectrum-classification/297/overview/about"
   ]
  },
  {
   "cell_type": "markdown",
   "id": "c166ba36",
   "metadata": {},
   "source": [
    "# Methodology:\n",
    "1."
   ]
  },
  {
   "cell_type": "markdown",
   "id": "16d138e4",
   "metadata": {},
   "source": [
    "### Import all libraries required"
   ]
  },
  {
   "cell_type": "code",
   "execution_count": 1,
   "id": "9f8d5e84",
   "metadata": {
    "execution": {
     "iopub.execute_input": "2022-09-08T04:49:24.362544Z",
     "iopub.status.busy": "2022-09-08T04:49:24.362141Z",
     "iopub.status.idle": "2022-09-08T04:49:25.433177Z",
     "shell.execute_reply": "2022-09-08T04:49:25.432211Z",
     "shell.execute_reply.started": "2022-09-08T04:49:24.362512Z"
    }
   },
   "outputs": [],
   "source": [
    "import pandas as pd\n",
    "pd.set_option('display.max_columns', None)\n",
    "pd.set_option('display.max_colwidth', None)\n",
    "import numpy as np\n",
    "from sklearn.preprocessing import MinMaxScaler, StandardScaler\n",
    "from sklearn.model_selection import train_test_split, GridSearchCV, KFold, cross_val_score, cross_validate\n",
    "from sklearn.linear_model import LogisticRegression\n",
    "from sklearn.discriminant_analysis import LinearDiscriminantAnalysis\n",
    "from sklearn.neighbors import KNeighborsClassifier\n",
    "from sklearn.naive_bayes import GaussianNB\n",
    "from sklearn.svm import SVC\n",
    "from sklearn.ensemble import RandomForestClassifier, AdaBoostClassifier\n",
    "from sklearn.tree import DecisionTreeClassifier\n",
    "from xgboost import XGBClassifier\n",
    "from sklearn.metrics import accuracy_score as acc, classification_report as cr, ConfusionMatrixDisplay as cm\n",
    "from sklearn.metrics import precision_score as ps, recall_score as rs, f1_score as f1\n",
    "import matplotlib.pyplot as plt\n",
    "%matplotlib inline\n",
    "import seaborn as sns\n",
    "import datetime as dt\n",
    "import time\n",
    "from imblearn.over_sampling import SMOTE"
   ]
  },
  {
   "cell_type": "markdown",
   "id": "a1160411",
   "metadata": {},
   "source": [
    "### Declare the path"
   ]
  },
  {
   "cell_type": "code",
   "execution_count": 2,
   "id": "3da5571d",
   "metadata": {
    "execution": {
     "iopub.execute_input": "2022-09-08T04:49:42.274791Z",
     "iopub.status.busy": "2022-09-08T04:49:42.274358Z",
     "iopub.status.idle": "2022-09-08T04:49:42.280246Z",
     "shell.execute_reply": "2022-09-08T04:49:42.278880Z",
     "shell.execute_reply.started": "2022-09-08T04:49:42.274754Z"
    }
   },
   "outputs": [],
   "source": [
    "train_path = '/home/sandeep/Development/Datasets/Climate/dphi_ds92_Telescope_Spectrum_Classification/data/train_dataset.csv'\n",
    "test_path = '/home/sandeep/Development/Datasets/Climate/dphi_ds92_Telescope_Spectrum_Classification/data/test_dataset.csv'"
   ]
  },
  {
   "cell_type": "markdown",
   "id": "20109b43",
   "metadata": {},
   "source": [
    "### Read the csv datasets into pandas dataframes"
   ]
  },
  {
   "cell_type": "code",
   "execution_count": 18,
   "id": "849c211a",
   "metadata": {
    "execution": {
     "iopub.execute_input": "2022-09-08T09:04:58.206179Z",
     "iopub.status.busy": "2022-09-08T09:04:58.205778Z",
     "iopub.status.idle": "2022-09-08T09:04:58.976089Z",
     "shell.execute_reply": "2022-09-08T09:04:58.974437Z",
     "shell.execute_reply.started": "2022-09-08T09:04:58.206147Z"
    }
   },
   "outputs": [
    {
     "data": {
      "text/html": [
       "<div>\n",
       "<style scoped>\n",
       "    .dataframe tbody tr th:only-of-type {\n",
       "        vertical-align: middle;\n",
       "    }\n",
       "\n",
       "    .dataframe tbody tr th {\n",
       "        vertical-align: top;\n",
       "    }\n",
       "\n",
       "    .dataframe thead th {\n",
       "        text-align: right;\n",
       "    }\n",
       "</style>\n",
       "<table border=\"1\" class=\"dataframe\">\n",
       "  <thead>\n",
       "    <tr style=\"text-align: right;\">\n",
       "      <th></th>\n",
       "      <th>fLength</th>\n",
       "      <th>fWidth</th>\n",
       "      <th>fSize</th>\n",
       "      <th>fConc</th>\n",
       "      <th>fConc1</th>\n",
       "      <th>fAsym</th>\n",
       "      <th>fM3Long</th>\n",
       "      <th>fM3Trans</th>\n",
       "      <th>fAlpha</th>\n",
       "      <th>fDist</th>\n",
       "      <th>class</th>\n",
       "    </tr>\n",
       "  </thead>\n",
       "  <tbody>\n",
       "    <tr>\n",
       "      <th>0</th>\n",
       "      <td>20.1426</td>\n",
       "      <td>9.9778</td>\n",
       "      <td>2.2695</td>\n",
       "      <td>0.6022</td>\n",
       "      <td>0.3898</td>\n",
       "      <td>-4.7403</td>\n",
       "      <td>15.5312</td>\n",
       "      <td>-9.5154</td>\n",
       "      <td>17.646</td>\n",
       "      <td>56.5999</td>\n",
       "      <td>g</td>\n",
       "    </tr>\n",
       "  </tbody>\n",
       "</table>\n",
       "</div>"
      ],
      "text/plain": [
       "   fLength  fWidth   fSize   fConc  fConc1   fAsym  fM3Long  fM3Trans  fAlpha  \\\n",
       "0  20.1426  9.9778  2.2695  0.6022  0.3898 -4.7403  15.5312   -9.5154  17.646   \n",
       "\n",
       "     fDist class  \n",
       "0  56.5999     g  "
      ]
     },
     "metadata": {},
     "output_type": "display_data"
    },
    {
     "data": {
      "text/html": [
       "<div>\n",
       "<style scoped>\n",
       "    .dataframe tbody tr th:only-of-type {\n",
       "        vertical-align: middle;\n",
       "    }\n",
       "\n",
       "    .dataframe tbody tr th {\n",
       "        vertical-align: top;\n",
       "    }\n",
       "\n",
       "    .dataframe thead th {\n",
       "        text-align: right;\n",
       "    }\n",
       "</style>\n",
       "<table border=\"1\" class=\"dataframe\">\n",
       "  <thead>\n",
       "    <tr style=\"text-align: right;\">\n",
       "      <th></th>\n",
       "      <th>fLength</th>\n",
       "      <th>fWidth</th>\n",
       "      <th>fSize</th>\n",
       "      <th>fConc</th>\n",
       "      <th>fConc1</th>\n",
       "      <th>fAsym</th>\n",
       "      <th>fM3Long</th>\n",
       "      <th>fM3Trans</th>\n",
       "      <th>fAlpha</th>\n",
       "      <th>fDist</th>\n",
       "    </tr>\n",
       "  </thead>\n",
       "  <tbody>\n",
       "    <tr>\n",
       "      <th>0</th>\n",
       "      <td>20.0335</td>\n",
       "      <td>14.284</td>\n",
       "      <td>2.4378</td>\n",
       "      <td>0.5328</td>\n",
       "      <td>0.2719</td>\n",
       "      <td>4.5573</td>\n",
       "      <td>-13.3556</td>\n",
       "      <td>3.5595</td>\n",
       "      <td>30.2511</td>\n",
       "      <td>173.673</td>\n",
       "    </tr>\n",
       "  </tbody>\n",
       "</table>\n",
       "</div>"
      ],
      "text/plain": [
       "   fLength  fWidth   fSize   fConc  fConc1   fAsym  fM3Long  fM3Trans  \\\n",
       "0  20.0335  14.284  2.4378  0.5328  0.2719  4.5573 -13.3556    3.5595   \n",
       "\n",
       "    fAlpha    fDist  \n",
       "0  30.2511  173.673  "
      ]
     },
     "metadata": {},
     "output_type": "display_data"
    }
   ],
   "source": [
    "train_df = pd.read_csv(train_path)\n",
    "test_df = pd.read_csv(test_path)\n",
    "display(train_df.head(1))\n",
    "display(test_df.head(1))"
   ]
  },
  {
   "cell_type": "code",
   "execution_count": 19,
   "id": "26f48d04",
   "metadata": {},
   "outputs": [],
   "source": [
    "train_df['class'] = train_df['class'].map({'g':1, 'h':0})"
   ]
  },
  {
   "cell_type": "code",
   "execution_count": 20,
   "id": "d6e75564",
   "metadata": {},
   "outputs": [
    {
     "data": {
      "text/html": [
       "<div>\n",
       "<style scoped>\n",
       "    .dataframe tbody tr th:only-of-type {\n",
       "        vertical-align: middle;\n",
       "    }\n",
       "\n",
       "    .dataframe tbody tr th {\n",
       "        vertical-align: top;\n",
       "    }\n",
       "\n",
       "    .dataframe thead th {\n",
       "        text-align: right;\n",
       "    }\n",
       "</style>\n",
       "<table border=\"1\" class=\"dataframe\">\n",
       "  <thead>\n",
       "    <tr style=\"text-align: right;\">\n",
       "      <th></th>\n",
       "      <th>fLength</th>\n",
       "      <th>fWidth</th>\n",
       "      <th>fSize</th>\n",
       "      <th>fConc</th>\n",
       "      <th>fConc1</th>\n",
       "      <th>fAsym</th>\n",
       "      <th>fM3Long</th>\n",
       "      <th>fM3Trans</th>\n",
       "      <th>fAlpha</th>\n",
       "      <th>fDist</th>\n",
       "      <th>class</th>\n",
       "    </tr>\n",
       "  </thead>\n",
       "  <tbody>\n",
       "    <tr>\n",
       "      <th>count</th>\n",
       "      <td>5000.000000</td>\n",
       "      <td>5000.000000</td>\n",
       "      <td>5000.000000</td>\n",
       "      <td>5000.000000</td>\n",
       "      <td>5000.000000</td>\n",
       "      <td>5000.000000</td>\n",
       "      <td>5000.000000</td>\n",
       "      <td>5000.000000</td>\n",
       "      <td>5000.000000</td>\n",
       "      <td>5000.000000</td>\n",
       "      <td>5000.000000</td>\n",
       "    </tr>\n",
       "    <tr>\n",
       "      <th>mean</th>\n",
       "      <td>52.994803</td>\n",
       "      <td>22.054462</td>\n",
       "      <td>2.819959</td>\n",
       "      <td>0.381813</td>\n",
       "      <td>0.215697</td>\n",
       "      <td>-4.931682</td>\n",
       "      <td>10.383390</td>\n",
       "      <td>0.304136</td>\n",
       "      <td>27.891382</td>\n",
       "      <td>193.044959</td>\n",
       "      <td>0.644400</td>\n",
       "    </tr>\n",
       "    <tr>\n",
       "      <th>std</th>\n",
       "      <td>42.849736</td>\n",
       "      <td>18.197425</td>\n",
       "      <td>0.473256</td>\n",
       "      <td>0.184880</td>\n",
       "      <td>0.111944</td>\n",
       "      <td>59.224209</td>\n",
       "      <td>51.401824</td>\n",
       "      <td>20.469221</td>\n",
       "      <td>26.194761</td>\n",
       "      <td>73.617054</td>\n",
       "      <td>0.478743</td>\n",
       "    </tr>\n",
       "    <tr>\n",
       "      <th>min</th>\n",
       "      <td>8.230400</td>\n",
       "      <td>0.000000</td>\n",
       "      <td>2.006500</td>\n",
       "      <td>0.013100</td>\n",
       "      <td>0.000300</td>\n",
       "      <td>-378.945700</td>\n",
       "      <td>-297.171700</td>\n",
       "      <td>-134.395000</td>\n",
       "      <td>0.000000</td>\n",
       "      <td>5.699800</td>\n",
       "      <td>0.000000</td>\n",
       "    </tr>\n",
       "    <tr>\n",
       "      <th>25%</th>\n",
       "      <td>24.209800</td>\n",
       "      <td>11.856275</td>\n",
       "      <td>2.471950</td>\n",
       "      <td>0.232775</td>\n",
       "      <td>0.127000</td>\n",
       "      <td>-20.685800</td>\n",
       "      <td>-12.849600</td>\n",
       "      <td>-10.779250</td>\n",
       "      <td>5.671400</td>\n",
       "      <td>142.300500</td>\n",
       "      <td>0.000000</td>\n",
       "    </tr>\n",
       "    <tr>\n",
       "      <th>50%</th>\n",
       "      <td>36.921900</td>\n",
       "      <td>17.029450</td>\n",
       "      <td>2.730500</td>\n",
       "      <td>0.355550</td>\n",
       "      <td>0.197600</td>\n",
       "      <td>3.472900</td>\n",
       "      <td>15.191900</td>\n",
       "      <td>0.000050</td>\n",
       "      <td>18.167900</td>\n",
       "      <td>192.861500</td>\n",
       "      <td>1.000000</td>\n",
       "    </tr>\n",
       "    <tr>\n",
       "      <th>75%</th>\n",
       "      <td>68.778050</td>\n",
       "      <td>24.525525</td>\n",
       "      <td>3.094100</td>\n",
       "      <td>0.508725</td>\n",
       "      <td>0.288950</td>\n",
       "      <td>23.336200</td>\n",
       "      <td>34.561725</td>\n",
       "      <td>10.854250</td>\n",
       "      <td>46.956725</td>\n",
       "      <td>239.579850</td>\n",
       "      <td>1.000000</td>\n",
       "    </tr>\n",
       "    <tr>\n",
       "      <th>max</th>\n",
       "      <td>334.177000</td>\n",
       "      <td>201.364000</td>\n",
       "      <td>5.323300</td>\n",
       "      <td>0.875700</td>\n",
       "      <td>0.675200</td>\n",
       "      <td>473.065400</td>\n",
       "      <td>238.321000</td>\n",
       "      <td>163.269700</td>\n",
       "      <td>90.000000</td>\n",
       "      <td>466.407800</td>\n",
       "      <td>1.000000</td>\n",
       "    </tr>\n",
       "  </tbody>\n",
       "</table>\n",
       "</div>"
      ],
      "text/plain": [
       "           fLength       fWidth        fSize        fConc       fConc1  \\\n",
       "count  5000.000000  5000.000000  5000.000000  5000.000000  5000.000000   \n",
       "mean     52.994803    22.054462     2.819959     0.381813     0.215697   \n",
       "std      42.849736    18.197425     0.473256     0.184880     0.111944   \n",
       "min       8.230400     0.000000     2.006500     0.013100     0.000300   \n",
       "25%      24.209800    11.856275     2.471950     0.232775     0.127000   \n",
       "50%      36.921900    17.029450     2.730500     0.355550     0.197600   \n",
       "75%      68.778050    24.525525     3.094100     0.508725     0.288950   \n",
       "max     334.177000   201.364000     5.323300     0.875700     0.675200   \n",
       "\n",
       "             fAsym      fM3Long     fM3Trans       fAlpha        fDist  \\\n",
       "count  5000.000000  5000.000000  5000.000000  5000.000000  5000.000000   \n",
       "mean     -4.931682    10.383390     0.304136    27.891382   193.044959   \n",
       "std      59.224209    51.401824    20.469221    26.194761    73.617054   \n",
       "min    -378.945700  -297.171700  -134.395000     0.000000     5.699800   \n",
       "25%     -20.685800   -12.849600   -10.779250     5.671400   142.300500   \n",
       "50%       3.472900    15.191900     0.000050    18.167900   192.861500   \n",
       "75%      23.336200    34.561725    10.854250    46.956725   239.579850   \n",
       "max     473.065400   238.321000   163.269700    90.000000   466.407800   \n",
       "\n",
       "             class  \n",
       "count  5000.000000  \n",
       "mean      0.644400  \n",
       "std       0.478743  \n",
       "min       0.000000  \n",
       "25%       0.000000  \n",
       "50%       1.000000  \n",
       "75%       1.000000  \n",
       "max       1.000000  "
      ]
     },
     "execution_count": 20,
     "metadata": {},
     "output_type": "execute_result"
    }
   ],
   "source": [
    "train_df.describe()"
   ]
  },
  {
   "cell_type": "markdown",
   "id": "94f65743",
   "metadata": {},
   "source": [
    "# Separate into dependent and independent features"
   ]
  },
  {
   "cell_type": "code",
   "execution_count": 21,
   "id": "99d1b937",
   "metadata": {},
   "outputs": [],
   "source": [
    "train_X = train_df.drop('class', axis=1).copy()\n",
    "train_y = train_df['class'].copy()\n",
    "final_X = test_df.copy()"
   ]
  },
  {
   "cell_type": "markdown",
   "id": "8ab11cdf",
   "metadata": {},
   "source": [
    "# Visualize the data"
   ]
  },
  {
   "cell_type": "code",
   "execution_count": 22,
   "id": "deaeacfc",
   "metadata": {},
   "outputs": [
    {
     "data": {
      "image/png": "[encoded data removed]",
      "text/plain": [
       "<Figure size 432x288 with 12 Axes>"
      ]
     },
     "metadata": {
      "needs_background": "light"
     },
     "output_type": "display_data"
    }
   ],
   "source": [
    "train_X.hist()\n",
    "plt.show()"
   ]
  },
  {
   "cell_type": "code",
   "execution_count": 23,
   "id": "fe773105",
   "metadata": {},
   "outputs": [
    {
     "data": {
      "image/png": "[encoded data removed]",
      "text/plain": [
       "<Figure size 432x288 with 1 Axes>"
      ]
     },
     "metadata": {
      "needs_background": "light"
     },
     "output_type": "display_data"
    }
   ],
   "source": [
    "train_y.hist()\n",
    "plt.show()"
   ]
  },
  {
   "cell_type": "markdown",
   "id": "362de92f",
   "metadata": {},
   "source": [
    "# The target classes are imbalanced, positive gamma cases are double of that of background"
   ]
  },
  {
   "cell_type": "markdown",
   "id": "a679a52e",
   "metadata": {},
   "source": [
    "# Let's balance the data by carrying out minority oversampling"
   ]
  },
  {
   "cell_type": "code",
   "execution_count": 24,
   "id": "947a010f",
   "metadata": {},
   "outputs": [],
   "source": [
    "sm = SMOTE()\n",
    "X, y=sm.fit_resample(train_X, train_y)"
   ]
  },
  {
   "cell_type": "code",
   "execution_count": 25,
   "id": "08c9c592",
   "metadata": {},
   "outputs": [
    {
     "data": {
      "image/png": "[encoded data removed]",
      "text/plain": [
       "<Figure size 432x288 with 1 Axes>"
      ]
     },
     "metadata": {
      "needs_background": "light"
     },
     "output_type": "display_data"
    },
    {
     "data": {
      "image/png": "[encoded data removed]",
      "text/plain": [
       "<Figure size 432x288 with 1 Axes>"
      ]
     },
     "metadata": {
      "needs_background": "light"
     },
     "output_type": "display_data"
    }
   ],
   "source": [
    "train_y.hist()\n",
    "plt.title('Original Classes')\n",
    "plt.show()\n",
    "y.hist()\n",
    "plt.title('Classes After Minority Oversampling')\n",
    "plt.show()"
   ]
  },
  {
   "cell_type": "markdown",
   "id": "34a41927",
   "metadata": {},
   "source": [
    "# Train Test Split"
   ]
  },
  {
   "cell_type": "code",
   "execution_count": 26,
   "id": "92f4eff8",
   "metadata": {},
   "outputs": [],
   "source": [
    "X_train, X_test, y_train, y_test = train_test_split(X, y, test_size=0.25, random_state=42)"
   ]
  },
  {
   "cell_type": "markdown",
   "id": "7d68347f",
   "metadata": {},
   "source": [
    "# Cross Validation for model selection"
   ]
  },
  {
   "cell_type": "markdown",
   "id": "ebbaed64",
   "metadata": {},
   "source": [
    "# Define the models for classification"
   ]
  },
  {
   "cell_type": "code",
   "execution_count": 27,
   "id": "7214ab5a",
   "metadata": {},
   "outputs": [],
   "source": [
    "models = {'LOG': LogisticRegression(max_iter=500, solver='liblinear'),\n",
    "         'LDA': LinearDiscriminantAnalysis(),\n",
    "         'KNN': KNeighborsClassifier(n_jobs=4),\n",
    "         'GNB': GaussianNB(),\n",
    "         'DCT': DecisionTreeClassifier(),\n",
    "         'SVM': SVC(),\n",
    "          'RFC': RandomForestClassifier(n_jobs=4),\n",
    "          'ADA': AdaBoostClassifier(),\n",
    "         'XGB': XGBClassifier(use_label_encoder=False, eval_metric='logloss', n_jobs=4),\n",
    "        }"
   ]
  },
  {
   "cell_type": "markdown",
   "id": "c7f363ab",
   "metadata": {},
   "source": [
    "# Evaluate each model in turn using cross validation score on the training data. Metrics: Accuracy, Precision, Recall, F1 Score"
   ]
  },
  {
   "cell_type": "code",
   "execution_count": 28,
   "id": "6da7b8cf",
   "metadata": {},
   "outputs": [
    {
     "name": "stdout",
     "output_type": "stream",
     "text": [
      "LOG: Acc: 0.759,Prec: 0.735, Rec: 0.810, F1: 0.770\n",
      "LDA: Acc: 0.760,Prec: 0.724, Rec: 0.838, F1: 0.777\n",
      "KNN: Acc: 0.787,Prec: 0.785, Rec: 0.790, F1: 0.787\n",
      "GNB: Acc: 0.633,Prec: 0.588, Rec: 0.892, F1: 0.708\n",
      "DCT: Acc: 0.798,Prec: 0.799, Rec: 0.796, F1: 0.798\n",
      "SVM: Acc: 0.772,Prec: 0.739, Rec: 0.839, F1: 0.786\n",
      "RFC: Acc: 0.865,Prec: 0.853, Rec: 0.882, F1: 0.867\n",
      "ADA: Acc: 0.819,Prec: 0.821, Rec: 0.816, F1: 0.818\n",
      "XGB: Acc: 0.867,Prec: 0.854, Rec: 0.885, F1: 0.869\n"
     ]
    }
   ],
   "source": [
    "for name, model in models.items():\n",
    "    kfold = KFold(n_splits=5, shuffle=True, random_state=42)\n",
    "    cv_results = cross_validate(model, X_train, y_train, cv=kfold, scoring=['accuracy', 'precision', 'recall', 'f1'])\n",
    "    print(f\"{name}: Acc: {cv_results['test_accuracy'].mean():.3f},\\\n",
    "Prec: {cv_results['test_precision'].mean():.3f}, Rec: {cv_results['test_recall'].mean():.3f}, \\\n",
    "F1: {cv_results['test_f1'].mean():.3f}\")"
   ]
  },
  {
   "cell_type": "markdown",
   "id": "7845286b",
   "metadata": {},
   "source": [
    "# XGB & RFC Classifiers are promising"
   ]
  },
  {
   "cell_type": "code",
   "execution_count": 30,
   "id": "ac8b6926",
   "metadata": {},
   "outputs": [
    {
     "name": "stdout",
     "output_type": "stream",
     "text": [
      "Acc: 0.8688, Prec: 0.8621,Rec; 0.8774, F1: 0.8697\n"
     ]
    }
   ],
   "source": [
    "X_train, X_test, y_train, y_test = train_test_split(X, y, test_size=0.35, random_state=42)\n",
    "model = XGBClassifier(use_label_encoder=False, eval_metric='logloss', n_jobs=4)\n",
    "model.fit(X_train, y_train)\n",
    "preds = model.predict(X_test)\n",
    "print(f'Acc: {acc(y_test, preds):0.4f}, Prec: {ps(y_test, preds):0.4f},\\\n",
    "Rec; {rs(y_test, preds):0.4f}, F1: {f1(y_test, preds):0.4f}')"
   ]
  },
  {
   "cell_type": "markdown",
   "id": "61f6b408",
   "metadata": {},
   "source": [
    "# Confusion Matrix"
   ]
  },
  {
   "cell_type": "code",
   "execution_count": 31,
   "id": "01d44c98",
   "metadata": {},
   "outputs": [
    {
     "data": {
      "image/png": "[encoded data removed]",
      "text/plain": [
       "<Figure size 432x288 with 2 Axes>"
      ]
     },
     "metadata": {
      "needs_background": "light"
     },
     "output_type": "display_data"
    }
   ],
   "source": [
    "cm.from_predictions(y_test, preds)\n",
    "plt.show()"
   ]
  },
  {
   "cell_type": "markdown",
   "id": "45a240ce",
   "metadata": {},
   "source": [
    "# Classification Report"
   ]
  },
  {
   "cell_type": "code",
   "execution_count": 32,
   "id": "d8d28fde",
   "metadata": {},
   "outputs": [
    {
     "name": "stdout",
     "output_type": "stream",
     "text": [
      "              precision    recall  f1-score   support\n",
      "\n",
      "           0       0.88      0.86      0.87      1130\n",
      "           1       0.86      0.88      0.87      1126\n",
      "\n",
      "    accuracy                           0.87      2256\n",
      "   macro avg       0.87      0.87      0.87      2256\n",
      "weighted avg       0.87      0.87      0.87      2256\n",
      "\n"
     ]
    }
   ],
   "source": [
    "print(cr(y_test,preds))"
   ]
  },
  {
   "cell_type": "markdown",
   "id": "7fa99e19",
   "metadata": {},
   "source": [
    "# Feature Importances"
   ]
  },
  {
   "cell_type": "code",
   "execution_count": 35,
   "id": "c55281a2",
   "metadata": {},
   "outputs": [
    {
     "data": {
      "image/png": "[encoded data removed]",
      "text/plain": [
       "<Figure size 432x288 with 1 Axes>"
      ]
     },
     "metadata": {
      "needs_background": "light"
     },
     "output_type": "display_data"
    }
   ],
   "source": [
    "ax = pd.DataFrame(sorted(list(zip(model.feature_importances_, test_df.columns)), \n",
    "                        key=lambda x:x[0]), columns=['FE', 'FN'])\n",
    "ax.set_index('FN', inplace=True)\n",
    "ax.plot(kind='barh', title='Feature Importances')\n",
    "plt.show()"
   ]
  },
  {
   "cell_type": "markdown",
   "id": "acea7166",
   "metadata": {},
   "source": [
    "# Predictions"
   ]
  },
  {
   "cell_type": "code",
   "execution_count": 37,
   "id": "caa154d5",
   "metadata": {},
   "outputs": [],
   "source": [
    "final_X['preds'] = model.predict(final_X)\n",
    "final_X['class'] = final_X['preds'].map({1:'g', 0:'h'})\n",
    "final_X['class'].to_csv('/home/sandeep/Development/Datasets/Climate/dphi_ds92_Telescope_Spectrum_Classification/submission/sub1.csv', \n",
    "                   index=False)"
   ]
  },
  {
   "cell_type": "code",
   "execution_count": null,
   "id": "18b795c4",
   "metadata": {},
   "outputs": [],
   "source": []
  },
  {
   "cell_type": "code",
   "execution_count": null,
   "id": "0f887753",
   "metadata": {},
   "outputs": [],
   "source": []
  }
 ],
 "metadata": {
  "kernelspec": {
   "display_name": "Python 3 (ipykernel)",
   "language": "python",
   "name": "python3"
  },
  "language_info": {
   "codemirror_mode": {
    "name": "ipython",
    "version": 3
   },
   "file_extension": ".py",
   "mimetype": "text/x-python",
   "name": "python",
   "nbconvert_exporter": "python",
   "pygments_lexer": "ipython3",
   "version": "3.9.12"
  }
 },
 "nbformat": 4,
 "nbformat_minor": 5
}
