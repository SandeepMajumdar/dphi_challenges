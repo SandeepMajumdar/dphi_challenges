{
 "cells": [
  {
   "cell_type": "markdown",
   "id": "56d3043f",
   "metadata": {},
   "source": [
    "# This notebook submits results to the DPhi challenge: https://dphi.tech/challenges/data-sprint-92-telescope-spectrum-classification/297/overview/about"
   ]
  },
  {
   "cell_type": "markdown",
   "id": "c166ba36",
   "metadata": {},
   "source": [
    "# Methodology:\n",
    "1."
   ]
  },
  {
   "cell_type": "code",
   "execution_count": 2,
   "id": "623af114",
   "metadata": {
    "execution": {
     "iopub.execute_input": "2022-10-02T11:17:42.541792Z",
     "iopub.status.busy": "2022-10-02T11:17:42.541079Z",
     "iopub.status.idle": "2022-10-02T11:17:50.335156Z",
     "shell.execute_reply": "2022-10-02T11:17:50.334234Z",
     "shell.execute_reply.started": "2022-10-02T11:17:42.541703Z"
    }
   },
   "outputs": [
    {
     "name": "stdout",
     "output_type": "stream",
     "text": [
      "WARNING:tensorflow:From /tmp/ipykernel_5110/2696735596.py:14: The name tf.keras.backend.set_session is deprecated. Please use tf.compat.v1.keras.backend.set_session instead.\n",
      "\n"
     ]
    }
   ],
   "source": [
    "import os\n",
    "import random\n",
    "import numpy as np\n",
    "import tensorflow as tf\n",
    "from tensorflow.keras import backend as K\n",
    "os.environ['PYTHONHASHSEED'] = str(1)\n",
    "os.environ['TF_CPP_MIN_LOG_LEVEL'] = '3'\n",
    "random.seed(1)\n",
    "np.random.seed(1)\n",
    "# tf.random.set_seed(1)\n",
    "tf.compat.v1.set_random_seed(1)\n",
    "session_conf = tf.compat.v1.ConfigProto(intra_op_parallelism_threads=1, inter_op_parallelism_threads=1)\n",
    "sess = tf.compat.v1.Session(graph=tf.compat.v1.get_default_graph(), config=session_conf)\n",
    "tf.compat.v1.keras.backend.set_session(sess)"
   ]
  },
  {
   "cell_type": "code",
   "execution_count": 5,
   "id": "15b13c5a",
   "metadata": {
    "execution": {
     "iopub.execute_input": "2022-10-02T11:17:50.337695Z",
     "iopub.status.busy": "2022-10-02T11:17:50.337070Z",
     "iopub.status.idle": "2022-10-02T11:17:51.001751Z",
     "shell.execute_reply": "2022-10-02T11:17:51.000718Z",
     "shell.execute_reply.started": "2022-10-02T11:17:50.337658Z"
    }
   },
   "outputs": [],
   "source": [
    "import tensorflow as tf\n",
    "from tensorflow import keras\n",
    "from tensorflow.keras.models import Sequential\n",
    "from tensorflow.keras.layers import Dense, Conv2D, MaxPool2D, Flatten, BatchNormalization, Activation, Dropout\n",
    "from tensorflow.keras.optimizers import Adam\n",
    "from sklearn.metrics import accuracy_score\n",
    "from tensorflow.keras.preprocessing.image import ImageDataGenerator\n",
    "from tensorflow.keras.regularizers import L1, L2, L1L2\n",
    "from tensorflow.keras.callbacks import EarlyStopping, ModelCheckpoint, LearningRateScheduler, ReduceLROnPlateau\n",
    "import numpy as np\n",
    "import matplotlib.pyplot as plt\n",
    "%matplotlib inline\n",
    "import pandas as pd\n",
    "# from tqdm import tqdm\n",
    "# import tensorflow_addons as tfa\n",
    "import gc"
   ]
  },
  {
   "cell_type": "code",
   "execution_count": 7,
   "id": "9f8d5e84",
   "metadata": {
    "execution": {
     "iopub.execute_input": "2022-09-08T04:49:24.362544Z",
     "iopub.status.busy": "2022-09-08T04:49:24.362141Z",
     "iopub.status.idle": "2022-09-08T04:49:25.433177Z",
     "shell.execute_reply": "2022-09-08T04:49:25.432211Z",
     "shell.execute_reply.started": "2022-09-08T04:49:24.362512Z"
    }
   },
   "outputs": [],
   "source": [
    "import pandas as pd\n",
    "pd.set_option('display.max_columns', None)\n",
    "pd.set_option('display.max_colwidth', None)\n",
    "import numpy as np\n",
    "from sklearn.preprocessing import MinMaxScaler, StandardScaler\n",
    "from sklearn.model_selection import train_test_split, GridSearchCV, KFold, cross_val_score, cross_validate\n",
    "from sklearn.linear_model import LogisticRegression\n",
    "from sklearn.discriminant_analysis import LinearDiscriminantAnalysis\n",
    "from sklearn.neighbors import KNeighborsClassifier\n",
    "from sklearn.naive_bayes import GaussianNB\n",
    "from sklearn.svm import SVC\n",
    "from sklearn.ensemble import RandomForestClassifier, AdaBoostClassifier\n",
    "from sklearn.tree import DecisionTreeClassifier\n",
    "from xgboost import XGBClassifier\n",
    "from sklearn.metrics import accuracy_score as acc, classification_report as cr, ConfusionMatrixDisplay as cm\n",
    "from sklearn.metrics import precision_score as ps, recall_score as rs, f1_score as f1\n",
    "import matplotlib.pyplot as plt\n",
    "%matplotlib inline\n",
    "import seaborn as sns\n",
    "import datetime as dt\n",
    "import time\n",
    "from imblearn.over_sampling import SMOTE"
   ]
  },
  {
   "cell_type": "markdown",
   "id": "a1160411",
   "metadata": {},
   "source": [
    "### Declare the path"
   ]
  },
  {
   "cell_type": "code",
   "execution_count": 8,
   "id": "3da5571d",
   "metadata": {
    "execution": {
     "iopub.execute_input": "2022-09-08T04:49:42.274791Z",
     "iopub.status.busy": "2022-09-08T04:49:42.274358Z",
     "iopub.status.idle": "2022-09-08T04:49:42.280246Z",
     "shell.execute_reply": "2022-09-08T04:49:42.278880Z",
     "shell.execute_reply.started": "2022-09-08T04:49:42.274754Z"
    }
   },
   "outputs": [],
   "source": [
    "train_path = '/home/sandeep/Development/Datasets/Climate/dphi_ds92_Telescope_Spectrum_Classification/data/train_dataset.csv'\n",
    "test_path = '/home/sandeep/Development/Datasets/Climate/dphi_ds92_Telescope_Spectrum_Classification/data/test_dataset.csv'"
   ]
  },
  {
   "cell_type": "markdown",
   "id": "20109b43",
   "metadata": {},
   "source": [
    "### Read the csv datasets into pandas dataframes"
   ]
  },
  {
   "cell_type": "code",
   "execution_count": 9,
   "id": "849c211a",
   "metadata": {
    "execution": {
     "iopub.execute_input": "2022-09-08T09:04:58.206179Z",
     "iopub.status.busy": "2022-09-08T09:04:58.205778Z",
     "iopub.status.idle": "2022-09-08T09:04:58.976089Z",
     "shell.execute_reply": "2022-09-08T09:04:58.974437Z",
     "shell.execute_reply.started": "2022-09-08T09:04:58.206147Z"
    }
   },
   "outputs": [
    {
     "data": {
      "text/html": [
       "<div>\n",
       "<style scoped>\n",
       "    .dataframe tbody tr th:only-of-type {\n",
       "        vertical-align: middle;\n",
       "    }\n",
       "\n",
       "    .dataframe tbody tr th {\n",
       "        vertical-align: top;\n",
       "    }\n",
       "\n",
       "    .dataframe thead th {\n",
       "        text-align: right;\n",
       "    }\n",
       "</style>\n",
       "<table border=\"1\" class=\"dataframe\">\n",
       "  <thead>\n",
       "    <tr style=\"text-align: right;\">\n",
       "      <th></th>\n",
       "      <th>fLength</th>\n",
       "      <th>fWidth</th>\n",
       "      <th>fSize</th>\n",
       "      <th>fConc</th>\n",
       "      <th>fConc1</th>\n",
       "      <th>fAsym</th>\n",
       "      <th>fM3Long</th>\n",
       "      <th>fM3Trans</th>\n",
       "      <th>fAlpha</th>\n",
       "      <th>fDist</th>\n",
       "      <th>class</th>\n",
       "    </tr>\n",
       "  </thead>\n",
       "  <tbody>\n",
       "    <tr>\n",
       "      <th>0</th>\n",
       "      <td>20.1426</td>\n",
       "      <td>9.9778</td>\n",
       "      <td>2.2695</td>\n",
       "      <td>0.6022</td>\n",
       "      <td>0.3898</td>\n",
       "      <td>-4.7403</td>\n",
       "      <td>15.5312</td>\n",
       "      <td>-9.5154</td>\n",
       "      <td>17.646</td>\n",
       "      <td>56.5999</td>\n",
       "      <td>g</td>\n",
       "    </tr>\n",
       "  </tbody>\n",
       "</table>\n",
       "</div>"
      ],
      "text/plain": [
       "   fLength  fWidth   fSize   fConc  fConc1   fAsym  fM3Long  fM3Trans  fAlpha  \\\n",
       "0  20.1426  9.9778  2.2695  0.6022  0.3898 -4.7403  15.5312   -9.5154  17.646   \n",
       "\n",
       "     fDist class  \n",
       "0  56.5999     g  "
      ]
     },
     "metadata": {},
     "output_type": "display_data"
    },
    {
     "data": {
      "text/html": [
       "<div>\n",
       "<style scoped>\n",
       "    .dataframe tbody tr th:only-of-type {\n",
       "        vertical-align: middle;\n",
       "    }\n",
       "\n",
       "    .dataframe tbody tr th {\n",
       "        vertical-align: top;\n",
       "    }\n",
       "\n",
       "    .dataframe thead th {\n",
       "        text-align: right;\n",
       "    }\n",
       "</style>\n",
       "<table border=\"1\" class=\"dataframe\">\n",
       "  <thead>\n",
       "    <tr style=\"text-align: right;\">\n",
       "      <th></th>\n",
       "      <th>fLength</th>\n",
       "      <th>fWidth</th>\n",
       "      <th>fSize</th>\n",
       "      <th>fConc</th>\n",
       "      <th>fConc1</th>\n",
       "      <th>fAsym</th>\n",
       "      <th>fM3Long</th>\n",
       "      <th>fM3Trans</th>\n",
       "      <th>fAlpha</th>\n",
       "      <th>fDist</th>\n",
       "    </tr>\n",
       "  </thead>\n",
       "  <tbody>\n",
       "    <tr>\n",
       "      <th>0</th>\n",
       "      <td>20.0335</td>\n",
       "      <td>14.284</td>\n",
       "      <td>2.4378</td>\n",
       "      <td>0.5328</td>\n",
       "      <td>0.2719</td>\n",
       "      <td>4.5573</td>\n",
       "      <td>-13.3556</td>\n",
       "      <td>3.5595</td>\n",
       "      <td>30.2511</td>\n",
       "      <td>173.673</td>\n",
       "    </tr>\n",
       "  </tbody>\n",
       "</table>\n",
       "</div>"
      ],
      "text/plain": [
       "   fLength  fWidth   fSize   fConc  fConc1   fAsym  fM3Long  fM3Trans  \\\n",
       "0  20.0335  14.284  2.4378  0.5328  0.2719  4.5573 -13.3556    3.5595   \n",
       "\n",
       "    fAlpha    fDist  \n",
       "0  30.2511  173.673  "
      ]
     },
     "metadata": {},
     "output_type": "display_data"
    }
   ],
   "source": [
    "train_df = pd.read_csv(train_path)\n",
    "test_df = pd.read_csv(test_path)\n",
    "display(train_df.head(1))\n",
    "display(test_df.head(1))"
   ]
  },
  {
   "cell_type": "code",
   "execution_count": 10,
   "id": "26f48d04",
   "metadata": {},
   "outputs": [],
   "source": [
    "train_df['class'] = train_df['class'].map({'g':1, 'h':0})"
   ]
  },
  {
   "cell_type": "code",
   "execution_count": 11,
   "id": "d6e75564",
   "metadata": {},
   "outputs": [
    {
     "data": {
      "text/html": [
       "<div>\n",
       "<style scoped>\n",
       "    .dataframe tbody tr th:only-of-type {\n",
       "        vertical-align: middle;\n",
       "    }\n",
       "\n",
       "    .dataframe tbody tr th {\n",
       "        vertical-align: top;\n",
       "    }\n",
       "\n",
       "    .dataframe thead th {\n",
       "        text-align: right;\n",
       "    }\n",
       "</style>\n",
       "<table border=\"1\" class=\"dataframe\">\n",
       "  <thead>\n",
       "    <tr style=\"text-align: right;\">\n",
       "      <th></th>\n",
       "      <th>fLength</th>\n",
       "      <th>fWidth</th>\n",
       "      <th>fSize</th>\n",
       "      <th>fConc</th>\n",
       "      <th>fConc1</th>\n",
       "      <th>fAsym</th>\n",
       "      <th>fM3Long</th>\n",
       "      <th>fM3Trans</th>\n",
       "      <th>fAlpha</th>\n",
       "      <th>fDist</th>\n",
       "      <th>class</th>\n",
       "    </tr>\n",
       "  </thead>\n",
       "  <tbody>\n",
       "    <tr>\n",
       "      <th>count</th>\n",
       "      <td>5000.000000</td>\n",
       "      <td>5000.000000</td>\n",
       "      <td>5000.000000</td>\n",
       "      <td>5000.000000</td>\n",
       "      <td>5000.000000</td>\n",
       "      <td>5000.000000</td>\n",
       "      <td>5000.000000</td>\n",
       "      <td>5000.000000</td>\n",
       "      <td>5000.000000</td>\n",
       "      <td>5000.000000</td>\n",
       "      <td>5000.000000</td>\n",
       "    </tr>\n",
       "    <tr>\n",
       "      <th>mean</th>\n",
       "      <td>52.994803</td>\n",
       "      <td>22.054462</td>\n",
       "      <td>2.819959</td>\n",
       "      <td>0.381813</td>\n",
       "      <td>0.215697</td>\n",
       "      <td>-4.931682</td>\n",
       "      <td>10.383390</td>\n",
       "      <td>0.304136</td>\n",
       "      <td>27.891382</td>\n",
       "      <td>193.044959</td>\n",
       "      <td>0.644400</td>\n",
       "    </tr>\n",
       "    <tr>\n",
       "      <th>std</th>\n",
       "      <td>42.849736</td>\n",
       "      <td>18.197425</td>\n",
       "      <td>0.473256</td>\n",
       "      <td>0.184880</td>\n",
       "      <td>0.111944</td>\n",
       "      <td>59.224209</td>\n",
       "      <td>51.401824</td>\n",
       "      <td>20.469221</td>\n",
       "      <td>26.194761</td>\n",
       "      <td>73.617054</td>\n",
       "      <td>0.478743</td>\n",
       "    </tr>\n",
       "    <tr>\n",
       "      <th>min</th>\n",
       "      <td>8.230400</td>\n",
       "      <td>0.000000</td>\n",
       "      <td>2.006500</td>\n",
       "      <td>0.013100</td>\n",
       "      <td>0.000300</td>\n",
       "      <td>-378.945700</td>\n",
       "      <td>-297.171700</td>\n",
       "      <td>-134.395000</td>\n",
       "      <td>0.000000</td>\n",
       "      <td>5.699800</td>\n",
       "      <td>0.000000</td>\n",
       "    </tr>\n",
       "    <tr>\n",
       "      <th>25%</th>\n",
       "      <td>24.209800</td>\n",
       "      <td>11.856275</td>\n",
       "      <td>2.471950</td>\n",
       "      <td>0.232775</td>\n",
       "      <td>0.127000</td>\n",
       "      <td>-20.685800</td>\n",
       "      <td>-12.849600</td>\n",
       "      <td>-10.779250</td>\n",
       "      <td>5.671400</td>\n",
       "      <td>142.300500</td>\n",
       "      <td>0.000000</td>\n",
       "    </tr>\n",
       "    <tr>\n",
       "      <th>50%</th>\n",
       "      <td>36.921900</td>\n",
       "      <td>17.029450</td>\n",
       "      <td>2.730500</td>\n",
       "      <td>0.355550</td>\n",
       "      <td>0.197600</td>\n",
       "      <td>3.472900</td>\n",
       "      <td>15.191900</td>\n",
       "      <td>0.000050</td>\n",
       "      <td>18.167900</td>\n",
       "      <td>192.861500</td>\n",
       "      <td>1.000000</td>\n",
       "    </tr>\n",
       "    <tr>\n",
       "      <th>75%</th>\n",
       "      <td>68.778050</td>\n",
       "      <td>24.525525</td>\n",
       "      <td>3.094100</td>\n",
       "      <td>0.508725</td>\n",
       "      <td>0.288950</td>\n",
       "      <td>23.336200</td>\n",
       "      <td>34.561725</td>\n",
       "      <td>10.854250</td>\n",
       "      <td>46.956725</td>\n",
       "      <td>239.579850</td>\n",
       "      <td>1.000000</td>\n",
       "    </tr>\n",
       "    <tr>\n",
       "      <th>max</th>\n",
       "      <td>334.177000</td>\n",
       "      <td>201.364000</td>\n",
       "      <td>5.323300</td>\n",
       "      <td>0.875700</td>\n",
       "      <td>0.675200</td>\n",
       "      <td>473.065400</td>\n",
       "      <td>238.321000</td>\n",
       "      <td>163.269700</td>\n",
       "      <td>90.000000</td>\n",
       "      <td>466.407800</td>\n",
       "      <td>1.000000</td>\n",
       "    </tr>\n",
       "  </tbody>\n",
       "</table>\n",
       "</div>"
      ],
      "text/plain": [
       "           fLength       fWidth        fSize        fConc       fConc1  \\\n",
       "count  5000.000000  5000.000000  5000.000000  5000.000000  5000.000000   \n",
       "mean     52.994803    22.054462     2.819959     0.381813     0.215697   \n",
       "std      42.849736    18.197425     0.473256     0.184880     0.111944   \n",
       "min       8.230400     0.000000     2.006500     0.013100     0.000300   \n",
       "25%      24.209800    11.856275     2.471950     0.232775     0.127000   \n",
       "50%      36.921900    17.029450     2.730500     0.355550     0.197600   \n",
       "75%      68.778050    24.525525     3.094100     0.508725     0.288950   \n",
       "max     334.177000   201.364000     5.323300     0.875700     0.675200   \n",
       "\n",
       "             fAsym      fM3Long     fM3Trans       fAlpha        fDist  \\\n",
       "count  5000.000000  5000.000000  5000.000000  5000.000000  5000.000000   \n",
       "mean     -4.931682    10.383390     0.304136    27.891382   193.044959   \n",
       "std      59.224209    51.401824    20.469221    26.194761    73.617054   \n",
       "min    -378.945700  -297.171700  -134.395000     0.000000     5.699800   \n",
       "25%     -20.685800   -12.849600   -10.779250     5.671400   142.300500   \n",
       "50%       3.472900    15.191900     0.000050    18.167900   192.861500   \n",
       "75%      23.336200    34.561725    10.854250    46.956725   239.579850   \n",
       "max     473.065400   238.321000   163.269700    90.000000   466.407800   \n",
       "\n",
       "             class  \n",
       "count  5000.000000  \n",
       "mean      0.644400  \n",
       "std       0.478743  \n",
       "min       0.000000  \n",
       "25%       0.000000  \n",
       "50%       1.000000  \n",
       "75%       1.000000  \n",
       "max       1.000000  "
      ]
     },
     "execution_count": 11,
     "metadata": {},
     "output_type": "execute_result"
    }
   ],
   "source": [
    "train_df.describe()"
   ]
  },
  {
   "cell_type": "markdown",
   "id": "94f65743",
   "metadata": {},
   "source": [
    "# Separate into dependent and independent features"
   ]
  },
  {
   "cell_type": "code",
   "execution_count": 116,
   "id": "99d1b937",
   "metadata": {},
   "outputs": [],
   "source": [
    "train_X = train_df.drop('class', axis=1).copy()\n",
    "train_y = train_df['class'].copy()\n",
    "final_X = test_df.copy()"
   ]
  },
  {
   "cell_type": "markdown",
   "id": "8ab11cdf",
   "metadata": {},
   "source": [
    "# Visualize the data"
   ]
  },
  {
   "cell_type": "code",
   "execution_count": 109,
   "id": "deaeacfc",
   "metadata": {},
   "outputs": [
    {
     "data": {
      "image/png": "[encoded data removed]",
      "text/plain": [
       "<Figure size 432x288 with 12 Axes>"
      ]
     },
     "metadata": {
      "needs_background": "light"
     },
     "output_type": "display_data"
    }
   ],
   "source": [
    "train_X.hist()\n",
    "plt.show()"
   ]
  },
  {
   "cell_type": "code",
   "execution_count": 110,
   "id": "fe773105",
   "metadata": {},
   "outputs": [
    {
     "data": {
      "image/png": "[encoded data removed]",
      "text/plain": [
       "<Figure size 432x288 with 1 Axes>"
      ]
     },
     "metadata": {
      "needs_background": "light"
     },
     "output_type": "display_data"
    }
   ],
   "source": [
    "train_y.hist()\n",
    "plt.show()"
   ]
  },
  {
   "cell_type": "markdown",
   "id": "362de92f",
   "metadata": {},
   "source": [
    "# The target classes are imbalanced, positive gamma cases are double of that of background"
   ]
  },
  {
   "cell_type": "markdown",
   "id": "a679a52e",
   "metadata": {},
   "source": [
    "# Let's balance the data by carrying out minority oversampling"
   ]
  },
  {
   "cell_type": "code",
   "execution_count": 111,
   "id": "947a010f",
   "metadata": {},
   "outputs": [
    {
     "data": {
      "image/png": "[encoded data removed]",
      "text/plain": [
       "<Figure size 432x288 with 1 Axes>"
      ]
     },
     "metadata": {
      "needs_background": "light"
     },
     "output_type": "display_data"
    },
    {
     "data": {
      "image/png": "[encoded data removed]",
      "text/plain": [
       "<Figure size 432x288 with 1 Axes>"
      ]
     },
     "metadata": {
      "needs_background": "light"
     },
     "output_type": "display_data"
    }
   ],
   "source": [
    "train_y.hist()\n",
    "plt.title('Original Classes')\n",
    "plt.show()\n",
    "sm = SMOTE()\n",
    "train_X, train_y = sm.fit_resample(train_X, train_y)\n",
    "y.hist()\n",
    "plt.title('Classes After Minority Oversampling')\n",
    "plt.show()"
   ]
  },
  {
   "cell_type": "markdown",
   "id": "e112ef75",
   "metadata": {},
   "source": [
    "# Loss and Metric Plotting Functions"
   ]
  },
  {
   "cell_type": "code",
   "execution_count": 118,
   "id": "58c0899c",
   "metadata": {
    "execution": {
     "iopub.execute_input": "2022-10-02T11:20:55.698865Z",
     "iopub.status.busy": "2022-10-02T11:20:55.698522Z",
     "iopub.status.idle": "2022-10-02T11:20:55.709683Z",
     "shell.execute_reply": "2022-10-02T11:20:55.708458Z",
     "shell.execute_reply.started": "2022-10-02T11:20:55.698837Z"
    }
   },
   "outputs": [],
   "source": [
    "start = 1\n",
    "def plot_loss(history_dict):\n",
    "    key1 = list(history_dict.keys())[0]\n",
    "    key2 = list(history_dict.keys())[2]\n",
    "    loss_values = history_dict[key1][start:]\n",
    "    val_loss_values=history_dict[key2][start:]\n",
    "    plt.plot(loss_values,'b-',label=key1)\n",
    "    plt.plot(val_loss_values,'r--',label=key2)\n",
    "    plt.title('Training vs Validation Loss')\n",
    "    plt.legend()\n",
    "    plt.show()\n",
    "    print(key1, ': ', history_dict[key1][-1], key2,': ', history_dict[key2][-1])\n",
    "\n",
    "def plot_metric(history_dict):\n",
    "    key1 = list(history_dict.keys())[1]\n",
    "    key2 = list(history_dict.keys())[3]\n",
    "    metric_values = history_dict[key1][start:]\n",
    "    val_metric_values=history_dict[key2][start:]\n",
    "    plt.plot(metric_values,'b-',label=key1)\n",
    "    plt.plot(val_metric_values,'r--',label=key2)\n",
    "    plt.title('Training vs Validation Metric')\n",
    "    plt.legend()\n",
    "    plt.show()\n",
    "    print(key1, ': ', history_dict[key1][-1], key2,': ', history_dict[key2][-1])"
   ]
  },
  {
   "cell_type": "code",
   "execution_count": 113,
   "id": "671fcac6",
   "metadata": {},
   "outputs": [
    {
     "data": {
      "text/plain": [
       "(6444, 10)"
      ]
     },
     "execution_count": 113,
     "metadata": {},
     "output_type": "execute_result"
    }
   ],
   "source": [
    "train_X.shape"
   ]
  },
  {
   "cell_type": "markdown",
   "id": "6678b695",
   "metadata": {},
   "source": [
    "# Neural Network"
   ]
  },
  {
   "cell_type": "code",
   "execution_count": 183,
   "id": "c2eecc6d",
   "metadata": {
    "scrolled": true
   },
   "outputs": [
    {
     "name": "stdout",
     "output_type": "stream",
     "text": [
      "Epoch 1/100\n",
      "14/14 [==============================] - 4s 179ms/step - loss: 27.5598 - accuracy: 0.5007 - val_loss: 0.5588 - val_accuracy: 0.7113\n",
      "Epoch 2/100\n",
      "14/14 [==============================] - 2s 128ms/step - loss: 0.5474 - accuracy: 0.7249 - val_loss: 0.5238 - val_accuracy: 0.7527\n",
      "Epoch 3/100\n",
      "14/14 [==============================] - 2s 144ms/step - loss: 0.5341 - accuracy: 0.7442 - val_loss: 0.4822 - val_accuracy: 0.7760\n",
      "Epoch 4/100\n",
      "14/14 [==============================] - 2s 134ms/step - loss: 0.5005 - accuracy: 0.7677 - val_loss: 0.4874 - val_accuracy: 0.7853\n",
      "Epoch 5/100\n",
      "14/14 [==============================] - 2s 140ms/step - loss: 0.4980 - accuracy: 0.7684 - val_loss: 0.4506 - val_accuracy: 0.8067\n",
      "Epoch 6/100\n",
      "14/14 [==============================] - 2s 141ms/step - loss: 0.4827 - accuracy: 0.7767 - val_loss: 0.4575 - val_accuracy: 0.7787\n",
      "Epoch 7/100\n",
      "14/14 [==============================] - 2s 150ms/step - loss: 0.4705 - accuracy: 0.7749 - val_loss: 0.4441 - val_accuracy: 0.7947\n",
      "Epoch 8/100\n",
      "14/14 [==============================] - 2s 154ms/step - loss: 0.4662 - accuracy: 0.7908 - val_loss: 0.4446 - val_accuracy: 0.8067\n",
      "Epoch 9/100\n",
      "14/14 [==============================] - 2s 145ms/step - loss: 0.4563 - accuracy: 0.7967 - val_loss: 0.4263 - val_accuracy: 0.8193\n",
      "Epoch 10/100\n",
      "14/14 [==============================] - 2s 147ms/step - loss: 0.4558 - accuracy: 0.7866 - val_loss: 0.4181 - val_accuracy: 0.8120\n",
      "Epoch 11/100\n",
      "14/14 [==============================] - 2s 144ms/step - loss: 0.4407 - accuracy: 0.7979 - val_loss: 0.4242 - val_accuracy: 0.8160\n",
      "Epoch 12/100\n",
      "14/14 [==============================] - 2s 156ms/step - loss: 0.4426 - accuracy: 0.8020 - val_loss: 0.4418 - val_accuracy: 0.7927\n",
      "Epoch 13/100\n",
      "14/14 [==============================] - 2s 153ms/step - loss: 0.4436 - accuracy: 0.7932 - val_loss: 0.4151 - val_accuracy: 0.8120\n",
      "Epoch 14/100\n",
      "14/14 [==============================] - 3s 193ms/step - loss: 0.4229 - accuracy: 0.8097 - val_loss: 0.4190 - val_accuracy: 0.8207\n",
      "Epoch 15/100\n",
      "14/14 [==============================] - 2s 172ms/step - loss: 0.4251 - accuracy: 0.8087 - val_loss: 0.3969 - val_accuracy: 0.8307\n",
      "Epoch 16/100\n",
      "14/14 [==============================] - 2s 177ms/step - loss: 0.4106 - accuracy: 0.8091 - val_loss: 0.4136 - val_accuracy: 0.8227\n",
      "Epoch 17/100\n",
      "14/14 [==============================] - 2s 167ms/step - loss: 0.4277 - accuracy: 0.7959 - val_loss: 0.4491 - val_accuracy: 0.7827\n",
      "Epoch 18/100\n",
      "14/14 [==============================] - 3s 211ms/step - loss: 0.4359 - accuracy: 0.7919 - val_loss: 0.4068 - val_accuracy: 0.8220\n",
      "Epoch 19/100\n",
      "14/14 [==============================] - 2s 171ms/step - loss: 0.4373 - accuracy: 0.8029 - val_loss: 0.4083 - val_accuracy: 0.8147\n",
      "Epoch 20/100\n",
      "14/14 [==============================] - 2s 162ms/step - loss: 0.4080 - accuracy: 0.8131 - val_loss: 0.4059 - val_accuracy: 0.8213\n",
      "Epoch 21/100\n",
      "14/14 [==============================] - 3s 184ms/step - loss: 0.4030 - accuracy: 0.8229 - val_loss: 0.4009 - val_accuracy: 0.8267\n",
      "Epoch 22/100\n",
      "14/14 [==============================] - 2s 166ms/step - loss: 0.4026 - accuracy: 0.8105 - val_loss: 0.4008 - val_accuracy: 0.8280\n",
      "Epoch 23/100\n",
      "14/14 [==============================] - 2s 175ms/step - loss: 0.4104 - accuracy: 0.8065 - val_loss: 0.4009 - val_accuracy: 0.8307\n",
      "Epoch 24/100\n",
      "14/14 [==============================] - 2s 183ms/step - loss: 0.4037 - accuracy: 0.8169 - val_loss: 0.4006 - val_accuracy: 0.8280\n",
      "Epoch 25/100\n",
      "14/14 [==============================] - 2s 174ms/step - loss: 0.3992 - accuracy: 0.8226 - val_loss: 0.4006 - val_accuracy: 0.8280\n",
      "Epoch 00025: early stopping\n"
     ]
    },
    {
     "data": {
      "image/png": "[encoded data removed]",
      "text/plain": [
       "<Figure size 432x288 with 1 Axes>"
      ]
     },
     "metadata": {
      "needs_background": "light"
     },
     "output_type": "display_data"
    },
    {
     "name": "stdout",
     "output_type": "stream",
     "text": [
      "loss :  0.40341028571128845 val_loss :  0.40059155225753784\n"
     ]
    },
    {
     "data": {
      "image/png": "[encoded data removed]",
      "text/plain": [
       "<Figure size 432x288 with 1 Axes>"
      ]
     },
     "metadata": {
      "needs_background": "light"
     },
     "output_type": "display_data"
    },
    {
     "name": "stdout",
     "output_type": "stream",
     "text": [
      "accuracy :  0.8142856955528259 val_accuracy :  0.828000009059906\n"
     ]
    }
   ],
   "source": [
    "activation='relu'\n",
    "model = Sequential([\n",
    "    Dense(units=512, input_shape=(10,), activation=activation),\n",
    "    Dropout(0.4),\n",
    "    Dense(units=512, activation=activation),\n",
    "    Dense(units=256, activation=activation),\n",
    "    Dense(units=256, activation=activation),\n",
    "    Dense(units=128, activation=activation),\n",
    "    Dense(units=64, activation=activation),\n",
    "    Dense(1, activation='sigmoid')\n",
    "])\n",
    "model.compile(optimizer=Adam(learning_rate=0.01), loss='binary_crossentropy', metrics=['accuracy'])\n",
    "lr_call = ReduceLROnPlateau(monitor=\"val_loss\", factor=0.1, patience=3, verbose=0, mode=\"min\", cooldown=0, min_lr=0)\n",
    "stop_call = EarlyStopping(monitor='val_loss', patience=10, verbose=10)\n",
    "history = model.fit(x=train_X, y=train_y, validation_split=0.3, batch_size=256, shuffle=True, epochs=100, \n",
    "                    verbose=1, callbacks=[stop_call, lr_call]#,  class_weight=({0:1.4,1:0.7}), \n",
    "                   )\n",
    "plot_loss(history.history)\n",
    "plt.show()\n",
    "plot_metric(history.history)\n",
    "plt.show()"
   ]
  },
  {
   "cell_type": "code",
   "execution_count": 184,
   "id": "6cb1cfee",
   "metadata": {},
   "outputs": [
    {
     "data": {
      "text/plain": [
       "array([1, 1, 0, ..., 0, 1, 1])"
      ]
     },
     "execution_count": 184,
     "metadata": {},
     "output_type": "execute_result"
    }
   ],
   "source": [
    "preds = model.predict(train_X).reshape(-1,)\n",
    "preds = (preds>0.5).astype(int)\n",
    "preds"
   ]
  },
  {
   "cell_type": "markdown",
   "id": "61f6b408",
   "metadata": {},
   "source": [
    "# Confusion Matrix"
   ]
  },
  {
   "cell_type": "code",
   "execution_count": 185,
   "id": "01d44c98",
   "metadata": {},
   "outputs": [
    {
     "data": {
      "image/png": "[encoded data removed]",
      "text/plain": [
       "<Figure size 432x288 with 2 Axes>"
      ]
     },
     "metadata": {
      "needs_background": "light"
     },
     "output_type": "display_data"
    }
   ],
   "source": [
    "cm.from_predictions(train_y, preds)\n",
    "plt.show()"
   ]
  },
  {
   "cell_type": "markdown",
   "id": "45a240ce",
   "metadata": {},
   "source": [
    "# Classification Report"
   ]
  },
  {
   "cell_type": "code",
   "execution_count": 186,
   "id": "d8d28fde",
   "metadata": {},
   "outputs": [
    {
     "name": "stdout",
     "output_type": "stream",
     "text": [
      "              precision    recall  f1-score   support\n",
      "\n",
      "           0       0.87      0.62      0.72      1778\n",
      "           1       0.82      0.95      0.88      3222\n",
      "\n",
      "    accuracy                           0.83      5000\n",
      "   macro avg       0.85      0.78      0.80      5000\n",
      "weighted avg       0.84      0.83      0.82      5000\n",
      "\n"
     ]
    }
   ],
   "source": [
    "print(cr(train_y,preds))"
   ]
  },
  {
   "cell_type": "markdown",
   "id": "acea7166",
   "metadata": {},
   "source": [
    "# Predictions"
   ]
  },
  {
   "cell_type": "code",
   "execution_count": 195,
   "id": "978d076f",
   "metadata": {},
   "outputs": [],
   "source": [
    "preds = model.predict(final_X.iloc[:,:10])\n",
    "preds = (preds>0.5).astype(int)\n",
    "final_X['preds'] = preds\n",
    "final_X['class'] = final_X['preds'].map({1:'g', 0:'h'})\n",
    "final_X['class'].to_csv('/home/sandeep/Development/Datasets/Climate/dphi_ds92_Telescope_Spectrum_Classification/submission/sub3.csv', \n",
    "                   index=False)"
   ]
  },
  {
   "cell_type": "code",
   "execution_count": 197,
   "id": "b80e8b0b",
   "metadata": {},
   "outputs": [],
   "source": [
    "d1 = pd.read_csv('/home/sandeep/Development/Datasets/Climate/dphi_ds92_Telescope_Spectrum_Classification/submission/sub1.csv')\n",
    "d2 = pd.read_csv('/home/sandeep/Development/Datasets/Climate/dphi_ds92_Telescope_Spectrum_Classification/submission/sub3.csv')"
   ]
  },
  {
   "cell_type": "code",
   "execution_count": 229,
   "id": "c4832c36",
   "metadata": {},
   "outputs": [
    {
     "data": {
      "text/html": [
       "<div>\n",
       "<style scoped>\n",
       "    .dataframe tbody tr th:only-of-type {\n",
       "        vertical-align: middle;\n",
       "    }\n",
       "\n",
       "    .dataframe tbody tr th {\n",
       "        vertical-align: top;\n",
       "    }\n",
       "\n",
       "    .dataframe thead th {\n",
       "        text-align: right;\n",
       "    }\n",
       "</style>\n",
       "<table border=\"1\" class=\"dataframe\">\n",
       "  <thead>\n",
       "    <tr style=\"text-align: right;\">\n",
       "      <th></th>\n",
       "      <th>class</th>\n",
       "    </tr>\n",
       "  </thead>\n",
       "  <tbody>\n",
       "    <tr>\n",
       "      <th>0</th>\n",
       "      <td>gg</td>\n",
       "    </tr>\n",
       "    <tr>\n",
       "      <th>1</th>\n",
       "      <td>gg</td>\n",
       "    </tr>\n",
       "    <tr>\n",
       "      <th>2</th>\n",
       "      <td>gg</td>\n",
       "    </tr>\n",
       "    <tr>\n",
       "      <th>3</th>\n",
       "      <td>hh</td>\n",
       "    </tr>\n",
       "    <tr>\n",
       "      <th>4</th>\n",
       "      <td>hh</td>\n",
       "    </tr>\n",
       "  </tbody>\n",
       "</table>\n",
       "</div>"
      ],
      "text/plain": [
       "  class\n",
       "0    gg\n",
       "1    gg\n",
       "2    gg\n",
       "3    hh\n",
       "4    hh"
      ]
     },
     "execution_count": 229,
     "metadata": {},
     "output_type": "execute_result"
    }
   ],
   "source": [
    "d3 = d1+d2\n",
    "d3.head()"
   ]
  },
  {
   "cell_type": "code",
   "execution_count": 230,
   "id": "44e3e8a5",
   "metadata": {},
   "outputs": [],
   "source": [
    "d3['class'] = d3['class'].apply(lambda x: 'g' if x=='gg' or x=='gh' else 'h')\n",
    "d3['class'].to_csv('/home/sandeep/Development/Datasets/Climate/dphi_ds92_Telescope_Spectrum_Classification/submission/sub4.csv', \n",
    "                   index=False)"
   ]
  },
  {
   "cell_type": "code",
   "execution_count": 231,
   "id": "9f54492e",
   "metadata": {},
   "outputs": [
    {
     "data": {
      "text/plain": [
       "class    0\n",
       "dtype: int64"
      ]
     },
     "execution_count": 231,
     "metadata": {},
     "output_type": "execute_result"
    }
   ],
   "source": [
    "(d3!=d1).astype(int).sum()"
   ]
  },
  {
   "cell_type": "code",
   "execution_count": null,
   "id": "50edc008",
   "metadata": {},
   "outputs": [],
   "source": []
  }
 ],
 "metadata": {
  "kernelspec": {
   "display_name": "Python 3 (ipykernel)",
   "language": "python",
   "name": "python3"
  },
  "language_info": {
   "codemirror_mode": {
    "name": "ipython",
    "version": 3
   },
   "file_extension": ".py",
   "mimetype": "text/x-python",
   "name": "python",
   "nbconvert_exporter": "python",
   "pygments_lexer": "ipython3",
   "version": "3.9.12"
  }
 },
 "nbformat": 4,
 "nbformat_minor": 5
}
