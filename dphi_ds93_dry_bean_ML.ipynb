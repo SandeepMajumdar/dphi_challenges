{
 "cells": [
  {
   "cell_type": "markdown",
   "id": "56d3043f",
   "metadata": {},
   "source": [
    "# This notebook submits results to the DPhi challenge: https://dphi.tech/challenges/data-sprint-93-dry-bean-classification/298/overview/about"
   ]
  },
  {
   "cell_type": "markdown",
   "id": "c166ba36",
   "metadata": {},
   "source": [
    "# Methodology:\n",
    "1."
   ]
  },
  {
   "cell_type": "markdown",
   "id": "16d138e4",
   "metadata": {},
   "source": [
    "### Import all libraries required"
   ]
  },
  {
   "cell_type": "code",
   "execution_count": 154,
   "id": "9f8d5e84",
   "metadata": {
    "execution": {
     "iopub.execute_input": "2022-09-08T04:49:24.362544Z",
     "iopub.status.busy": "2022-09-08T04:49:24.362141Z",
     "iopub.status.idle": "2022-09-08T04:49:25.433177Z",
     "shell.execute_reply": "2022-09-08T04:49:25.432211Z",
     "shell.execute_reply.started": "2022-09-08T04:49:24.362512Z"
    }
   },
   "outputs": [],
   "source": [
    "import pandas as pd\n",
    "pd.set_option('display.max_columns', None)\n",
    "pd.set_option('display.max_colwidth', None)\n",
    "import numpy as np\n",
    "from sklearn.preprocessing import MinMaxScaler, StandardScaler\n",
    "from sklearn.model_selection import train_test_split, GridSearchCV, KFold, cross_val_score, cross_validate, StratifiedKFold\n",
    "from sklearn.linear_model import LogisticRegression\n",
    "from sklearn.discriminant_analysis import LinearDiscriminantAnalysis\n",
    "from sklearn.neighbors import KNeighborsClassifier\n",
    "from sklearn.naive_bayes import GaussianNB\n",
    "from sklearn.svm import SVC\n",
    "from sklearn.ensemble import RandomForestClassifier, AdaBoostClassifier\n",
    "from sklearn.tree import DecisionTreeClassifier\n",
    "from xgboost import XGBClassifier\n",
    "from sklearn.metrics import accuracy_score as acc, classification_report as cr, ConfusionMatrixDisplay as cm\n",
    "from sklearn.metrics import precision_score as ps, recall_score as rs, f1_score as f1\n",
    "import matplotlib.pyplot as plt\n",
    "%matplotlib inline\n",
    "import seaborn as sns\n",
    "import datetime as dt\n",
    "import time\n",
    "from imblearn.over_sampling import SMOTE\n",
    "from sklearn.preprocessing import PolynomialFeatures\n",
    "import lightgbm as lgb"
   ]
  },
  {
   "cell_type": "markdown",
   "id": "a1160411",
   "metadata": {},
   "source": [
    "### Declare the path"
   ]
  },
  {
   "cell_type": "code",
   "execution_count": 2,
   "id": "3da5571d",
   "metadata": {
    "execution": {
     "iopub.execute_input": "2022-09-08T04:49:42.274791Z",
     "iopub.status.busy": "2022-09-08T04:49:42.274358Z",
     "iopub.status.idle": "2022-09-08T04:49:42.280246Z",
     "shell.execute_reply": "2022-09-08T04:49:42.278880Z",
     "shell.execute_reply.started": "2022-09-08T04:49:42.274754Z"
    }
   },
   "outputs": [],
   "source": [
    "train_path = '/home/sandeep/Development/Datasets/Agriculture/dphi_ds93_dry_bean/data/train_dataset.csv'\n",
    "test_path = '/home/sandeep/Development/Datasets/Agriculture/dphi_ds93_dry_bean/data/test_dataset.csv'"
   ]
  },
  {
   "cell_type": "markdown",
   "id": "20109b43",
   "metadata": {},
   "source": [
    "### Read the csv datasets into pandas dataframes"
   ]
  },
  {
   "cell_type": "code",
   "execution_count": 3,
   "id": "849c211a",
   "metadata": {
    "execution": {
     "iopub.execute_input": "2022-09-08T09:04:58.206179Z",
     "iopub.status.busy": "2022-09-08T09:04:58.205778Z",
     "iopub.status.idle": "2022-09-08T09:04:58.976089Z",
     "shell.execute_reply": "2022-09-08T09:04:58.974437Z",
     "shell.execute_reply.started": "2022-09-08T09:04:58.206147Z"
    }
   },
   "outputs": [
    {
     "data": {
      "text/html": [
       "<div>\n",
       "<style scoped>\n",
       "    .dataframe tbody tr th:only-of-type {\n",
       "        vertical-align: middle;\n",
       "    }\n",
       "\n",
       "    .dataframe tbody tr th {\n",
       "        vertical-align: top;\n",
       "    }\n",
       "\n",
       "    .dataframe thead th {\n",
       "        text-align: right;\n",
       "    }\n",
       "</style>\n",
       "<table border=\"1\" class=\"dataframe\">\n",
       "  <thead>\n",
       "    <tr style=\"text-align: right;\">\n",
       "      <th></th>\n",
       "      <th>Area</th>\n",
       "      <th>Perimeter</th>\n",
       "      <th>MajorAxisLength</th>\n",
       "      <th>MinorAxisLength</th>\n",
       "      <th>AspectRation</th>\n",
       "      <th>Eccentricity</th>\n",
       "      <th>ConvexArea</th>\n",
       "      <th>EquivDiameter</th>\n",
       "      <th>Extent</th>\n",
       "      <th>Solidity</th>\n",
       "      <th>roundness</th>\n",
       "      <th>Compactness</th>\n",
       "      <th>ShapeFactor1</th>\n",
       "      <th>ShapeFactor2</th>\n",
       "      <th>ShapeFactor3</th>\n",
       "      <th>ShapeFactor4</th>\n",
       "      <th>Class</th>\n",
       "    </tr>\n",
       "  </thead>\n",
       "  <tbody>\n",
       "    <tr>\n",
       "      <th>0</th>\n",
       "      <td>69892</td>\n",
       "      <td>1052.973</td>\n",
       "      <td>389.855771</td>\n",
       "      <td>228.671466</td>\n",
       "      <td>1.704873</td>\n",
       "      <td>0.80991</td>\n",
       "      <td>71139</td>\n",
       "      <td>298.310674</td>\n",
       "      <td>0.68427</td>\n",
       "      <td>0.982471</td>\n",
       "      <td>0.792142</td>\n",
       "      <td>0.765182</td>\n",
       "      <td>0.005578</td>\n",
       "      <td>0.00118</td>\n",
       "      <td>0.585504</td>\n",
       "      <td>0.998209</td>\n",
       "      <td>BARBUNYA</td>\n",
       "    </tr>\n",
       "  </tbody>\n",
       "</table>\n",
       "</div>"
      ],
      "text/plain": [
       "    Area  Perimeter  MajorAxisLength  MinorAxisLength  AspectRation  \\\n",
       "0  69892   1052.973       389.855771       228.671466      1.704873   \n",
       "\n",
       "   Eccentricity  ConvexArea  EquivDiameter   Extent  Solidity  roundness  \\\n",
       "0       0.80991       71139     298.310674  0.68427  0.982471   0.792142   \n",
       "\n",
       "   Compactness  ShapeFactor1  ShapeFactor2  ShapeFactor3  ShapeFactor4  \\\n",
       "0     0.765182      0.005578       0.00118      0.585504      0.998209   \n",
       "\n",
       "      Class  \n",
       "0  BARBUNYA  "
      ]
     },
     "metadata": {},
     "output_type": "display_data"
    },
    {
     "data": {
      "text/html": [
       "<div>\n",
       "<style scoped>\n",
       "    .dataframe tbody tr th:only-of-type {\n",
       "        vertical-align: middle;\n",
       "    }\n",
       "\n",
       "    .dataframe tbody tr th {\n",
       "        vertical-align: top;\n",
       "    }\n",
       "\n",
       "    .dataframe thead th {\n",
       "        text-align: right;\n",
       "    }\n",
       "</style>\n",
       "<table border=\"1\" class=\"dataframe\">\n",
       "  <thead>\n",
       "    <tr style=\"text-align: right;\">\n",
       "      <th></th>\n",
       "      <th>Area</th>\n",
       "      <th>Perimeter</th>\n",
       "      <th>MajorAxisLength</th>\n",
       "      <th>MinorAxisLength</th>\n",
       "      <th>AspectRation</th>\n",
       "      <th>Eccentricity</th>\n",
       "      <th>ConvexArea</th>\n",
       "      <th>EquivDiameter</th>\n",
       "      <th>Extent</th>\n",
       "      <th>Solidity</th>\n",
       "      <th>roundness</th>\n",
       "      <th>Compactness</th>\n",
       "      <th>ShapeFactor1</th>\n",
       "      <th>ShapeFactor2</th>\n",
       "      <th>ShapeFactor3</th>\n",
       "      <th>ShapeFactor4</th>\n",
       "    </tr>\n",
       "  </thead>\n",
       "  <tbody>\n",
       "    <tr>\n",
       "      <th>0</th>\n",
       "      <td>43514</td>\n",
       "      <td>792.22</td>\n",
       "      <td>300.349775</td>\n",
       "      <td>185.116129</td>\n",
       "      <td>1.622494</td>\n",
       "      <td>0.787484</td>\n",
       "      <td>43961</td>\n",
       "      <td>235.380002</td>\n",
       "      <td>0.688469</td>\n",
       "      <td>0.989832</td>\n",
       "      <td>0.871259</td>\n",
       "      <td>0.783686</td>\n",
       "      <td>0.006902</td>\n",
       "      <td>0.001606</td>\n",
       "      <td>0.614164</td>\n",
       "      <td>0.996478</td>\n",
       "    </tr>\n",
       "  </tbody>\n",
       "</table>\n",
       "</div>"
      ],
      "text/plain": [
       "    Area  Perimeter  MajorAxisLength  MinorAxisLength  AspectRation  \\\n",
       "0  43514     792.22       300.349775       185.116129      1.622494   \n",
       "\n",
       "   Eccentricity  ConvexArea  EquivDiameter    Extent  Solidity  roundness  \\\n",
       "0      0.787484       43961     235.380002  0.688469  0.989832   0.871259   \n",
       "\n",
       "   Compactness  ShapeFactor1  ShapeFactor2  ShapeFactor3  ShapeFactor4  \n",
       "0     0.783686      0.006902      0.001606      0.614164      0.996478  "
      ]
     },
     "metadata": {},
     "output_type": "display_data"
    }
   ],
   "source": [
    "train_df = pd.read_csv(train_path)\n",
    "test_df = pd.read_csv(test_path)\n",
    "display(train_df.head(1))\n",
    "display(test_df.head(1))"
   ]
  },
  {
   "cell_type": "code",
   "execution_count": 8,
   "id": "f7d70ab7",
   "metadata": {},
   "outputs": [
    {
     "data": {
      "text/plain": [
       "{'BARBUNYA': 0,\n",
       " 'DERMASON': 1,\n",
       " 'BOMBAY': 2,\n",
       " 'SIRA': 3,\n",
       " 'CALI': 4,\n",
       " 'HOROZ': 5,\n",
       " 'SEKER': 6}"
      ]
     },
     "execution_count": 8,
     "metadata": {},
     "output_type": "execute_result"
    }
   ],
   "source": [
    "d = {value: idx for idx, value in enumerate(train_df.Class.unique())}\n",
    "d"
   ]
  },
  {
   "cell_type": "code",
   "execution_count": 11,
   "id": "fa57e795",
   "metadata": {},
   "outputs": [
    {
     "data": {
      "text/plain": [
       "{0: 'BARBUNYA',\n",
       " 1: 'DERMASON',\n",
       " 2: 'BOMBAY',\n",
       " 3: 'SIRA',\n",
       " 4: 'CALI',\n",
       " 5: 'HOROZ',\n",
       " 6: 'SEKER'}"
      ]
     },
     "execution_count": 11,
     "metadata": {},
     "output_type": "execute_result"
    }
   ],
   "source": [
    "d_rev = {value:key for key, value in d.items()}\n",
    "d_rev"
   ]
  },
  {
   "cell_type": "code",
   "execution_count": 12,
   "id": "26f48d04",
   "metadata": {},
   "outputs": [],
   "source": [
    "train_df['Class'] = train_df['Class'].map(d)"
   ]
  },
  {
   "cell_type": "code",
   "execution_count": 13,
   "id": "d6e75564",
   "metadata": {},
   "outputs": [
    {
     "data": {
      "text/html": [
       "<div>\n",
       "<style scoped>\n",
       "    .dataframe tbody tr th:only-of-type {\n",
       "        vertical-align: middle;\n",
       "    }\n",
       "\n",
       "    .dataframe tbody tr th {\n",
       "        vertical-align: top;\n",
       "    }\n",
       "\n",
       "    .dataframe thead th {\n",
       "        text-align: right;\n",
       "    }\n",
       "</style>\n",
       "<table border=\"1\" class=\"dataframe\">\n",
       "  <thead>\n",
       "    <tr style=\"text-align: right;\">\n",
       "      <th></th>\n",
       "      <th>Area</th>\n",
       "      <th>Perimeter</th>\n",
       "      <th>MajorAxisLength</th>\n",
       "      <th>MinorAxisLength</th>\n",
       "      <th>AspectRation</th>\n",
       "      <th>Eccentricity</th>\n",
       "      <th>ConvexArea</th>\n",
       "      <th>EquivDiameter</th>\n",
       "      <th>Extent</th>\n",
       "      <th>Solidity</th>\n",
       "      <th>roundness</th>\n",
       "      <th>Compactness</th>\n",
       "      <th>ShapeFactor1</th>\n",
       "      <th>ShapeFactor2</th>\n",
       "      <th>ShapeFactor3</th>\n",
       "      <th>ShapeFactor4</th>\n",
       "      <th>Class</th>\n",
       "    </tr>\n",
       "  </thead>\n",
       "  <tbody>\n",
       "    <tr>\n",
       "      <th>count</th>\n",
       "      <td>2500.000000</td>\n",
       "      <td>2500.000000</td>\n",
       "      <td>2500.000000</td>\n",
       "      <td>2500.000000</td>\n",
       "      <td>2500.000000</td>\n",
       "      <td>2500.000000</td>\n",
       "      <td>2500.000000</td>\n",
       "      <td>2500.000000</td>\n",
       "      <td>2500.000000</td>\n",
       "      <td>2500.000000</td>\n",
       "      <td>2500.000000</td>\n",
       "      <td>2500.000000</td>\n",
       "      <td>2500.000000</td>\n",
       "      <td>2500.000000</td>\n",
       "      <td>2500.000000</td>\n",
       "      <td>2500.000000</td>\n",
       "      <td>2500.0000</td>\n",
       "    </tr>\n",
       "    <tr>\n",
       "      <th>mean</th>\n",
       "      <td>53313.700400</td>\n",
       "      <td>856.897475</td>\n",
       "      <td>320.613592</td>\n",
       "      <td>202.656362</td>\n",
       "      <td>1.582931</td>\n",
       "      <td>0.750977</td>\n",
       "      <td>54038.396400</td>\n",
       "      <td>253.490510</td>\n",
       "      <td>0.749295</td>\n",
       "      <td>0.987125</td>\n",
       "      <td>0.873166</td>\n",
       "      <td>0.799917</td>\n",
       "      <td>0.006557</td>\n",
       "      <td>0.001714</td>\n",
       "      <td>0.643659</td>\n",
       "      <td>0.995023</td>\n",
       "      <td>2.9812</td>\n",
       "    </tr>\n",
       "    <tr>\n",
       "      <th>std</th>\n",
       "      <td>30159.132787</td>\n",
       "      <td>217.871670</td>\n",
       "      <td>86.553220</td>\n",
       "      <td>46.016190</td>\n",
       "      <td>0.247091</td>\n",
       "      <td>0.091147</td>\n",
       "      <td>30616.360546</td>\n",
       "      <td>60.208996</td>\n",
       "      <td>0.049619</td>\n",
       "      <td>0.004610</td>\n",
       "      <td>0.060540</td>\n",
       "      <td>0.061594</td>\n",
       "      <td>0.001130</td>\n",
       "      <td>0.000594</td>\n",
       "      <td>0.098673</td>\n",
       "      <td>0.004497</td>\n",
       "      <td>2.0076</td>\n",
       "    </tr>\n",
       "    <tr>\n",
       "      <th>min</th>\n",
       "      <td>21348.000000</td>\n",
       "      <td>530.825000</td>\n",
       "      <td>187.168635</td>\n",
       "      <td>131.433059</td>\n",
       "      <td>1.060798</td>\n",
       "      <td>0.333680</td>\n",
       "      <td>21590.000000</td>\n",
       "      <td>164.866970</td>\n",
       "      <td>0.566669</td>\n",
       "      <td>0.949023</td>\n",
       "      <td>0.556766</td>\n",
       "      <td>0.648762</td>\n",
       "      <td>0.002778</td>\n",
       "      <td>0.000590</td>\n",
       "      <td>0.420892</td>\n",
       "      <td>0.949990</td>\n",
       "      <td>0.0000</td>\n",
       "    </tr>\n",
       "    <tr>\n",
       "      <th>25%</th>\n",
       "      <td>36417.750000</td>\n",
       "      <td>702.814000</td>\n",
       "      <td>252.902269</td>\n",
       "      <td>175.667281</td>\n",
       "      <td>1.432151</td>\n",
       "      <td>0.715854</td>\n",
       "      <td>36788.750000</td>\n",
       "      <td>215.333507</td>\n",
       "      <td>0.719277</td>\n",
       "      <td>0.985603</td>\n",
       "      <td>0.831385</td>\n",
       "      <td>0.763542</td>\n",
       "      <td>0.005921</td>\n",
       "      <td>0.001156</td>\n",
       "      <td>0.582996</td>\n",
       "      <td>0.993657</td>\n",
       "      <td>1.0000</td>\n",
       "    </tr>\n",
       "    <tr>\n",
       "      <th>50%</th>\n",
       "      <td>44751.000000</td>\n",
       "      <td>794.969000</td>\n",
       "      <td>296.498005</td>\n",
       "      <td>192.837885</td>\n",
       "      <td>1.549432</td>\n",
       "      <td>0.763847</td>\n",
       "      <td>45288.000000</td>\n",
       "      <td>238.702205</td>\n",
       "      <td>0.759512</td>\n",
       "      <td>0.988283</td>\n",
       "      <td>0.883453</td>\n",
       "      <td>0.802000</td>\n",
       "      <td>0.006634</td>\n",
       "      <td>0.001702</td>\n",
       "      <td>0.643203</td>\n",
       "      <td>0.996385</td>\n",
       "      <td>3.0000</td>\n",
       "    </tr>\n",
       "    <tr>\n",
       "      <th>75%</th>\n",
       "      <td>61028.750000</td>\n",
       "      <td>977.501750</td>\n",
       "      <td>376.493680</td>\n",
       "      <td>216.171558</td>\n",
       "      <td>1.704654</td>\n",
       "      <td>0.809856</td>\n",
       "      <td>61951.000000</td>\n",
       "      <td>278.754756</td>\n",
       "      <td>0.786154</td>\n",
       "      <td>0.989946</td>\n",
       "      <td>0.917277</td>\n",
       "      <td>0.833927</td>\n",
       "      <td>0.007283</td>\n",
       "      <td>0.002176</td>\n",
       "      <td>0.695435</td>\n",
       "      <td>0.997951</td>\n",
       "      <td>5.0000</td>\n",
       "    </tr>\n",
       "    <tr>\n",
       "      <th>max</th>\n",
       "      <td>254616.000000</td>\n",
       "      <td>1985.370000</td>\n",
       "      <td>738.860153</td>\n",
       "      <td>460.198497</td>\n",
       "      <td>2.364017</td>\n",
       "      <td>0.906126</td>\n",
       "      <td>263261.000000</td>\n",
       "      <td>569.374358</td>\n",
       "      <td>0.852841</td>\n",
       "      <td>0.993820</td>\n",
       "      <td>0.986685</td>\n",
       "      <td>0.970516</td>\n",
       "      <td>0.009720</td>\n",
       "      <td>0.003665</td>\n",
       "      <td>0.941900</td>\n",
       "      <td>0.999733</td>\n",
       "      <td>6.0000</td>\n",
       "    </tr>\n",
       "  </tbody>\n",
       "</table>\n",
       "</div>"
      ],
      "text/plain": [
       "                Area    Perimeter  MajorAxisLength  MinorAxisLength  \\\n",
       "count    2500.000000  2500.000000      2500.000000      2500.000000   \n",
       "mean    53313.700400   856.897475       320.613592       202.656362   \n",
       "std     30159.132787   217.871670        86.553220        46.016190   \n",
       "min     21348.000000   530.825000       187.168635       131.433059   \n",
       "25%     36417.750000   702.814000       252.902269       175.667281   \n",
       "50%     44751.000000   794.969000       296.498005       192.837885   \n",
       "75%     61028.750000   977.501750       376.493680       216.171558   \n",
       "max    254616.000000  1985.370000       738.860153       460.198497   \n",
       "\n",
       "       AspectRation  Eccentricity     ConvexArea  EquivDiameter       Extent  \\\n",
       "count   2500.000000   2500.000000    2500.000000    2500.000000  2500.000000   \n",
       "mean       1.582931      0.750977   54038.396400     253.490510     0.749295   \n",
       "std        0.247091      0.091147   30616.360546      60.208996     0.049619   \n",
       "min        1.060798      0.333680   21590.000000     164.866970     0.566669   \n",
       "25%        1.432151      0.715854   36788.750000     215.333507     0.719277   \n",
       "50%        1.549432      0.763847   45288.000000     238.702205     0.759512   \n",
       "75%        1.704654      0.809856   61951.000000     278.754756     0.786154   \n",
       "max        2.364017      0.906126  263261.000000     569.374358     0.852841   \n",
       "\n",
       "          Solidity    roundness  Compactness  ShapeFactor1  ShapeFactor2  \\\n",
       "count  2500.000000  2500.000000  2500.000000   2500.000000   2500.000000   \n",
       "mean      0.987125     0.873166     0.799917      0.006557      0.001714   \n",
       "std       0.004610     0.060540     0.061594      0.001130      0.000594   \n",
       "min       0.949023     0.556766     0.648762      0.002778      0.000590   \n",
       "25%       0.985603     0.831385     0.763542      0.005921      0.001156   \n",
       "50%       0.988283     0.883453     0.802000      0.006634      0.001702   \n",
       "75%       0.989946     0.917277     0.833927      0.007283      0.002176   \n",
       "max       0.993820     0.986685     0.970516      0.009720      0.003665   \n",
       "\n",
       "       ShapeFactor3  ShapeFactor4      Class  \n",
       "count   2500.000000   2500.000000  2500.0000  \n",
       "mean       0.643659      0.995023     2.9812  \n",
       "std        0.098673      0.004497     2.0076  \n",
       "min        0.420892      0.949990     0.0000  \n",
       "25%        0.582996      0.993657     1.0000  \n",
       "50%        0.643203      0.996385     3.0000  \n",
       "75%        0.695435      0.997951     5.0000  \n",
       "max        0.941900      0.999733     6.0000  "
      ]
     },
     "execution_count": 13,
     "metadata": {},
     "output_type": "execute_result"
    }
   ],
   "source": [
    "train_df.describe()"
   ]
  },
  {
   "cell_type": "code",
   "execution_count": 15,
   "id": "973bf9f0",
   "metadata": {},
   "outputs": [
    {
     "data": {
      "text/plain": [
       "((2500, 17), (2500, 16))"
      ]
     },
     "execution_count": 15,
     "metadata": {},
     "output_type": "execute_result"
    }
   ],
   "source": [
    "train_df.shape, test_df.shape"
   ]
  },
  {
   "cell_type": "markdown",
   "id": "e42cfc42",
   "metadata": {},
   "source": [
    "# Drop duplicate rows"
   ]
  },
  {
   "cell_type": "code",
   "execution_count": 16,
   "id": "71e3facb",
   "metadata": {},
   "outputs": [
    {
     "data": {
      "text/html": [
       "<div>\n",
       "<style scoped>\n",
       "    .dataframe tbody tr th:only-of-type {\n",
       "        vertical-align: middle;\n",
       "    }\n",
       "\n",
       "    .dataframe tbody tr th {\n",
       "        vertical-align: top;\n",
       "    }\n",
       "\n",
       "    .dataframe thead th {\n",
       "        text-align: right;\n",
       "    }\n",
       "</style>\n",
       "<table border=\"1\" class=\"dataframe\">\n",
       "  <thead>\n",
       "    <tr style=\"text-align: right;\">\n",
       "      <th></th>\n",
       "      <th>Area</th>\n",
       "      <th>Perimeter</th>\n",
       "      <th>MajorAxisLength</th>\n",
       "      <th>MinorAxisLength</th>\n",
       "      <th>AspectRation</th>\n",
       "      <th>Eccentricity</th>\n",
       "      <th>ConvexArea</th>\n",
       "      <th>EquivDiameter</th>\n",
       "      <th>Extent</th>\n",
       "      <th>Solidity</th>\n",
       "      <th>roundness</th>\n",
       "      <th>Compactness</th>\n",
       "      <th>ShapeFactor1</th>\n",
       "      <th>ShapeFactor2</th>\n",
       "      <th>ShapeFactor3</th>\n",
       "      <th>ShapeFactor4</th>\n",
       "      <th>Class</th>\n",
       "    </tr>\n",
       "  </thead>\n",
       "  <tbody>\n",
       "    <tr>\n",
       "      <th>2469</th>\n",
       "      <td>59105</td>\n",
       "      <td>957.363</td>\n",
       "      <td>372.981361</td>\n",
       "      <td>205.54524</td>\n",
       "      <td>1.814595</td>\n",
       "      <td>0.834448</td>\n",
       "      <td>60667</td>\n",
       "      <td>274.326126</td>\n",
       "      <td>0.75763</td>\n",
       "      <td>0.974253</td>\n",
       "      <td>0.810365</td>\n",
       "      <td>0.735496</td>\n",
       "      <td>0.00631</td>\n",
       "      <td>0.001139</td>\n",
       "      <td>0.540954</td>\n",
       "      <td>0.981612</td>\n",
       "      <td>5</td>\n",
       "    </tr>\n",
       "  </tbody>\n",
       "</table>\n",
       "</div>"
      ],
      "text/plain": [
       "       Area  Perimeter  MajorAxisLength  MinorAxisLength  AspectRation  \\\n",
       "2469  59105    957.363       372.981361        205.54524      1.814595   \n",
       "\n",
       "      Eccentricity  ConvexArea  EquivDiameter   Extent  Solidity  roundness  \\\n",
       "2469      0.834448       60667     274.326126  0.75763  0.974253   0.810365   \n",
       "\n",
       "      Compactness  ShapeFactor1  ShapeFactor2  ShapeFactor3  ShapeFactor4  \\\n",
       "2469     0.735496       0.00631      0.001139      0.540954      0.981612   \n",
       "\n",
       "      Class  \n",
       "2469      5  "
      ]
     },
     "execution_count": 16,
     "metadata": {},
     "output_type": "execute_result"
    }
   ],
   "source": [
    "train_df[train_df.duplicated()]"
   ]
  },
  {
   "cell_type": "code",
   "execution_count": 17,
   "id": "6a680192",
   "metadata": {},
   "outputs": [
    {
     "data": {
      "text/plain": [
       "(2499, 17)"
      ]
     },
     "execution_count": 17,
     "metadata": {},
     "output_type": "execute_result"
    }
   ],
   "source": [
    "train_df.drop_duplicates(inplace=True)\n",
    "train_df.shape"
   ]
  },
  {
   "cell_type": "markdown",
   "id": "94f65743",
   "metadata": {},
   "source": [
    "# Separate into dependent and independent features"
   ]
  },
  {
   "cell_type": "code",
   "execution_count": 227,
   "id": "99d1b937",
   "metadata": {},
   "outputs": [],
   "source": [
    "train_X = train_df.drop('Class', axis=1).copy()\n",
    "train_y = train_df['Class'].copy()\n",
    "final_X = test_df.copy()"
   ]
  },
  {
   "cell_type": "markdown",
   "id": "8ab11cdf",
   "metadata": {},
   "source": [
    "# Visualize the data"
   ]
  },
  {
   "cell_type": "code",
   "execution_count": 19,
   "id": "deaeacfc",
   "metadata": {},
   "outputs": [
    {
     "data": {
      "image/png": "[encoded data removed]",
      "text/plain": [
       "<Figure size 432x288 with 16 Axes>"
      ]
     },
     "metadata": {
      "needs_background": "light"
     },
     "output_type": "display_data"
    }
   ],
   "source": [
    "train_X.hist()\n",
    "plt.show()"
   ]
  },
  {
   "cell_type": "code",
   "execution_count": 20,
   "id": "fe773105",
   "metadata": {},
   "outputs": [
    {
     "data": {
      "image/png": "[encoded data removed]",
      "text/plain": [
       "<Figure size 432x288 with 1 Axes>"
      ]
     },
     "metadata": {
      "needs_background": "light"
     },
     "output_type": "display_data"
    }
   ],
   "source": [
    "train_y.hist()\n",
    "plt.show()"
   ]
  },
  {
   "cell_type": "markdown",
   "id": "480d6b4d",
   "metadata": {},
   "source": [
    "# Scaling"
   ]
  },
  {
   "cell_type": "code",
   "execution_count": 228,
   "id": "863fee9e",
   "metadata": {},
   "outputs": [],
   "source": [
    "scaler = StandardScaler()\n",
    "train_X = scaler.fit_transform(train_X)\n",
    "final_X = scaler.transform(final_X)"
   ]
  },
  {
   "cell_type": "markdown",
   "id": "34a41927",
   "metadata": {},
   "source": [
    "# Train Test Split"
   ]
  },
  {
   "cell_type": "code",
   "execution_count": 229,
   "id": "e4a0b5df",
   "metadata": {},
   "outputs": [],
   "source": [
    "train_y = train_y.to_numpy()\n",
    "# train_X = train_X.to_numpy()"
   ]
  },
  {
   "cell_type": "code",
   "execution_count": 77,
   "id": "92f4eff8",
   "metadata": {},
   "outputs": [],
   "source": [
    "X_train, X_test, y_train, y_test = train_test_split(train_X, train_y, test_size=0.25, random_state=1)"
   ]
  },
  {
   "cell_type": "markdown",
   "id": "7d68347f",
   "metadata": {},
   "source": [
    "# Cross Validation for model selection"
   ]
  },
  {
   "cell_type": "markdown",
   "id": "ebbaed64",
   "metadata": {},
   "source": [
    "# Define the models for classification"
   ]
  },
  {
   "cell_type": "code",
   "execution_count": 230,
   "id": "7214ab5a",
   "metadata": {},
   "outputs": [],
   "source": [
    "models = {\n",
    "#     'LOG': LogisticRegression(max_iter=500, solver='liblinear'),\n",
    "         'LDA': LinearDiscriminantAnalysis(),\n",
    "         'KNN': KNeighborsClassifier(n_jobs=4),\n",
    "         'GNB': GaussianNB(),\n",
    "         'DCT': DecisionTreeClassifier(),\n",
    "         'SVM': SVC(),\n",
    "          'RFC': RandomForestClassifier(n_jobs=4),\n",
    "          'ADA': AdaBoostClassifier(),\n",
    "         'XGB': XGBClassifier(use_label_encoder=False, eval_metric='logloss', n_jobs=4),\n",
    "        }"
   ]
  },
  {
   "cell_type": "markdown",
   "id": "c7f363ab",
   "metadata": {},
   "source": [
    "# Evaluate each model in turn using cross validation score on the training data. Metrics: Accuracy, Precision, Recall, F1 Score"
   ]
  },
  {
   "cell_type": "code",
   "execution_count": 231,
   "id": "6da7b8cf",
   "metadata": {},
   "outputs": [
    {
     "name": "stdout",
     "output_type": "stream",
     "text": [
      "LDA: Acc: 0.899\n",
      "KNN: Acc: 0.600\n",
      "GNB: Acc: 0.754\n",
      "DCT: Acc: 0.877\n",
      "SVM: Acc: 0.634\n",
      "RFC: Acc: 0.907\n",
      "ADA: Acc: 0.571\n",
      "XGB: Acc: 0.910\n"
     ]
    }
   ],
   "source": [
    "for name, model in models.items():\n",
    "    kfold = KFold(n_splits=5, shuffle=True, random_state=1)\n",
    "    cv_results = cross_validate(model, X_train, y_train, cv=kfold, scoring='accuracy')\n",
    "    print(f\"{name}: Acc: {cv_results['test_score'].mean():.3f}\")"
   ]
  },
  {
   "cell_type": "markdown",
   "id": "409cdb1f",
   "metadata": {},
   "source": [
    "# LGBM"
   ]
  },
  {
   "cell_type": "code",
   "execution_count": 232,
   "id": "df253bcd",
   "metadata": {},
   "outputs": [
    {
     "name": "stdout",
     "output_type": "stream",
     "text": [
      "Training until validation scores don't improve for 100 rounds\n",
      "Early stopping, best iteration is:\n",
      "[37]\tvalid_0's multi_logloss: 0.237129\n",
      "Fold:1, Acc: 0.9180\n",
      "Early stopping, best iteration is:\n",
      "[37]\tvalid_0's multi_logloss: 0.211397\n",
      "Fold:2, Acc: 0.9300\n",
      "Early stopping, best iteration is:\n",
      "[37]\tvalid_0's multi_logloss: 0.211397\n",
      "Fold:3, Acc: 0.9200\n",
      "Early stopping, best iteration is:\n",
      "[37]\tvalid_0's multi_logloss: 0.211397\n",
      "Fold:4, Acc: 0.9140\n",
      "Early stopping, best iteration is:\n",
      "[37]\tvalid_0's multi_logloss: 0.211397\n",
      "Fold:5, Acc: 0.9259\n",
      "Final: Acc: 0.9216\n"
     ]
    }
   ],
   "source": [
    "# X_train, X_test, y_train, y_test = train_test_split(train_X, train_y, test_size=0.25, random_state=1)\n",
    "hyper_params = {'task': 'train', 'boosting_type': 'gbdt', 'objective': 'classification', \n",
    "                'learning_rate': 0.08, 'n_estimators':10000,'verbose': -1, \n",
    "                'random_state':1, 'max_depth': -1, 'colsample_bytree': 0.9, 'num_leaves': 64, \n",
    "                'max_bin': 128, }\n",
    "stopper = lgb.early_stopping(stopping_rounds=100)\n",
    "# kfold = KFold(n_splits=5, shuffle=True, random_state=1)\n",
    "kfold = StratifiedKFold(n_splits=5, shuffle=True, random_state=1)\n",
    "fold=0\n",
    "res = {'Acc':[]}\n",
    "for train_id, test_id in kfold.split(train_X, train_y):\n",
    "    fold+=1\n",
    "    gbm = lgb.LGBMClassifier(**hyper_params) \n",
    "    gbm.fit(train_X[train_id], train_y[train_id], eval_set=[(train_X[test_id], train_y[test_id])], callbacks=[stopper],verbose='warn')\n",
    "    preds_gbm = gbm.predict(train_X[test_id], num_iteration=gbm.best_iteration_)\n",
    "    a = acc(train_y[test_id], preds_gbm)\n",
    "    print(f'Fold:{fold}, Acc: {a:0.4f}')\n",
    "    res['Acc'].append(a)\n",
    "print(f\"Final: Acc: {np.array(res['Acc']).mean():0.4f}\")"
   ]
  },
  {
   "cell_type": "markdown",
   "id": "4a88f8f6",
   "metadata": {},
   "source": [
    "### Final: Acc: 0.9224"
   ]
  },
  {
   "cell_type": "code",
   "execution_count": 233,
   "id": "98e276d3",
   "metadata": {},
   "outputs": [
    {
     "data": {
      "text/plain": [
       "LGBMClassifier(colsample_bytree=0.9, learning_rate=0.08, max_bin=128,\n",
       "               n_estimators=42, num_leaves=128, objective='classification',\n",
       "               random_state=1, task='train', verbose=-1)"
      ]
     },
     "execution_count": 233,
     "metadata": {},
     "output_type": "execute_result"
    }
   ],
   "source": [
    "hyper_params = {'task': 'train', 'boosting_type': 'gbdt', 'objective': 'classification', \n",
    "                'learning_rate': 0.08, 'n_estimators':42,'verbose': -1, \n",
    "                'random_state':1, 'max_depth': -1, 'colsample_bytree': 0.9, 'num_leaves': 128, \n",
    "                'max_bin': 128, }\n",
    "gbm = lgb.LGBMClassifier(**hyper_params) \n",
    "gbm.fit(train_X, train_y, verbose='warn')"
   ]
  },
  {
   "cell_type": "code",
   "execution_count": 234,
   "id": "563f26de",
   "metadata": {},
   "outputs": [
    {
     "data": {
      "text/plain": [
       "0           SIRA\n",
       "1           CALI\n",
       "2          HOROZ\n",
       "3          SEKER\n",
       "4           CALI\n",
       "          ...   \n",
       "2495        SIRA\n",
       "2496    DERMASON\n",
       "2497       HOROZ\n",
       "2498        SIRA\n",
       "2499       SEKER\n",
       "Name: Class, Length: 2500, dtype: object"
      ]
     },
     "execution_count": 234,
     "metadata": {},
     "output_type": "execute_result"
    }
   ],
   "source": [
    "test_df['Class'] = gbm.predict(final_X[:,:16])\n",
    "test_df['Class'] = test_df['Class'].map(d_rev)\n",
    "test_df['Class'].to_csv('/home/sandeep/Development/Datasets/Agriculture/dphi_ds93_dry_bean/submission/sub7.csv', \n",
    "                   index=False)\n",
    "test_df['Class']"
   ]
  },
  {
   "cell_type": "code",
   "execution_count": 173,
   "id": "fcc8d86c",
   "metadata": {},
   "outputs": [
    {
     "data": {
      "text/plain": [
       "0           SIRA\n",
       "1           CALI\n",
       "2          HOROZ\n",
       "3          SEKER\n",
       "4           CALI\n",
       "          ...   \n",
       "2495        SIRA\n",
       "2496    DERMASON\n",
       "2497       HOROZ\n",
       "2498        SIRA\n",
       "2499       SEKER\n",
       "Name: Class, Length: 2500, dtype: object"
      ]
     },
     "execution_count": 173,
     "metadata": {},
     "output_type": "execute_result"
    }
   ],
   "source": [
    "final_X['Class'] = gbm.predict(final_X.iloc[:,:16])\n",
    "final_X['Class'] = final_X['Class'].map(d_rev)\n",
    "final_X['Class'].to_csv('/home/sandeep/Development/Datasets/Agriculture/dphi_ds93_dry_bean/submission/sub4.csv', \n",
    "                   index=False)\n",
    "final_X['Class']"
   ]
  },
  {
   "cell_type": "code",
   "execution_count": null,
   "id": "517a4729",
   "metadata": {},
   "outputs": [],
   "source": []
  },
  {
   "cell_type": "code",
   "execution_count": null,
   "id": "cd8ba4e3",
   "metadata": {},
   "outputs": [],
   "source": []
  },
  {
   "cell_type": "markdown",
   "id": "2202a48f",
   "metadata": {},
   "source": [
    "# XGB Classifier"
   ]
  },
  {
   "cell_type": "code",
   "execution_count": 185,
   "id": "4d1863ba",
   "metadata": {},
   "outputs": [
    {
     "name": "stdout",
     "output_type": "stream",
     "text": [
      "Fold:1, Acc: 0.9180\n",
      "Fold:2, Acc: 0.9260\n",
      "Fold:3, Acc: 0.9080\n",
      "Fold:4, Acc: 0.9120\n",
      "Fold:5, Acc: 0.9118\n",
      "Final: Acc: 0.9152\n"
     ]
    }
   ],
   "source": [
    "# kfold = KFold(n_splits=5, shuffle=True, random_state=1)\n",
    "kfold = StratifiedKFold(n_splits=5, shuffle=True, random_state=1)\n",
    "fold=0\n",
    "res = {'Acc':[]}\n",
    "for train_id, test_id in kfold.split(train_X, train_y):\n",
    "    fold+=1\n",
    "    model_xgb = XGBClassifier(use_label_encoder=False, eval_metric='logloss', n_jobs=4, random_state=1,\n",
    "            n_estimators=100, max_depth=20, learning_rate=0.1, booster='gbtree', num_parallel_tree=1,\n",
    "            colsample_bytree=0.9, colsample_bylevel=1, colsample_bynode=1, \n",
    "                         )\n",
    "    model_xgb.fit(train_X[train_id], train_y[train_id])\n",
    "    preds_xgb = model_xgb.predict(train_X[test_id])\n",
    "    a = acc(train_y[test_id], preds_xgb)\n",
    "    print(f'Fold:{fold}, Acc: {a:0.4f}')\n",
    "    res['Acc'].append(a)\n",
    "print(f\"Final: Acc: {np.array(res['Acc']).mean():0.4f}\")"
   ]
  },
  {
   "cell_type": "markdown",
   "id": "e4f84376",
   "metadata": {},
   "source": [
    "### Final: Acc: 0.9160 nt 1"
   ]
  },
  {
   "cell_type": "code",
   "execution_count": 186,
   "id": "a5ad8add",
   "metadata": {},
   "outputs": [
    {
     "data": {
      "text/plain": [
       "XGBClassifier(base_score=0.5, booster='gbtree', colsample_bylevel=1,\n",
       "              colsample_bynode=1, colsample_bytree=0.9,\n",
       "              enable_categorical=False, eval_metric='logloss', gamma=0,\n",
       "              gpu_id=-1, importance_type=None, interaction_constraints='',\n",
       "              learning_rate=0.1, max_delta_step=0, max_depth=20,\n",
       "              min_child_weight=1, missing=nan, monotone_constraints='()',\n",
       "              n_estimators=100, n_jobs=4, num_parallel_tree=1,\n",
       "              objective='multi:softprob', predictor='auto', random_state=1,\n",
       "              reg_alpha=0, reg_lambda=1, scale_pos_weight=None, subsample=1,\n",
       "              tree_method='exact', use_label_encoder=False,\n",
       "              validate_parameters=1, ...)"
      ]
     },
     "execution_count": 186,
     "metadata": {},
     "output_type": "execute_result"
    }
   ],
   "source": [
    "model_xgb = XGBClassifier(use_label_encoder=False, eval_metric='logloss', n_jobs=4, random_state=1,\n",
    "            n_estimators=100, max_depth=20, learning_rate=0.1, booster='gbtree', num_parallel_tree=1,\n",
    "            colsample_bytree=0.9, colsample_bylevel=1, colsample_bynode=1, \n",
    "                         )\n",
    "model_xgb.fit(train_X, train_y)"
   ]
  },
  {
   "cell_type": "code",
   "execution_count": 187,
   "id": "e827582b",
   "metadata": {},
   "outputs": [
    {
     "data": {
      "text/plain": [
       "0           SIRA\n",
       "1           CALI\n",
       "2          HOROZ\n",
       "3          SEKER\n",
       "4           CALI\n",
       "          ...   \n",
       "2495        SIRA\n",
       "2496    DERMASON\n",
       "2497       HOROZ\n",
       "2498        SIRA\n",
       "2499       SEKER\n",
       "Name: Class, Length: 2500, dtype: object"
      ]
     },
     "execution_count": 187,
     "metadata": {},
     "output_type": "execute_result"
    }
   ],
   "source": [
    "final_X['Class'] = model_xgb.predict(final_X.iloc[:,:16])\n",
    "final_X['Class'] = final_X['Class'].map(d_rev)\n",
    "final_X['Class'].to_csv('/home/sandeep/Development/Datasets/Agriculture/dphi_ds93_dry_bean/submission/sub5.csv', \n",
    "                   index=False)\n",
    "final_X['Class']"
   ]
  },
  {
   "cell_type": "code",
   "execution_count": null,
   "id": "dc7c0960",
   "metadata": {},
   "outputs": [],
   "source": []
  },
  {
   "cell_type": "code",
   "execution_count": null,
   "id": "3e5b1654",
   "metadata": {},
   "outputs": [],
   "source": []
  },
  {
   "cell_type": "markdown",
   "id": "3d939dd9",
   "metadata": {},
   "source": [
    "# RF Classifier"
   ]
  },
  {
   "cell_type": "code",
   "execution_count": 224,
   "id": "685da6e0",
   "metadata": {},
   "outputs": [
    {
     "name": "stdout",
     "output_type": "stream",
     "text": [
      "Fold:1, Acc: 0.9240\n",
      "Fold:2, Acc: 0.9260\n",
      "Fold:3, Acc: 0.9100\n",
      "Fold:4, Acc: 0.9200\n",
      "Fold:5, Acc: 0.9138\n",
      "Final: Acc: 0.9188\n"
     ]
    }
   ],
   "source": [
    "# kfold = KFold(n_splits=5, shuffle=True, random_state=1)\n",
    "kfold = StratifiedKFold(n_splits=5, shuffle=True, random_state=1)\n",
    "fold=0\n",
    "res = {'Acc':[]}\n",
    "for train_id, test_id in kfold.split(train_X, train_y):\n",
    "    fold+=1\n",
    "    model_rfc = RandomForestClassifier(n_jobs=4, random_state=1,\n",
    "        n_estimators=100, criterion='gini',  max_depth=8, max_features=0.95, )\n",
    "    model_rfc.fit(train_X[train_id], train_y[train_id])\n",
    "    preds_rfc = model_rfc.predict(train_X[test_id])\n",
    "    a = acc(train_y[test_id], preds_rfc)\n",
    "    print(f'Fold:{fold}, Acc: {a:0.4f}')\n",
    "    res['Acc'].append(a)\n",
    "print(f\"Final: Acc: {np.array(res['Acc']).mean():0.4f}\")"
   ]
  },
  {
   "cell_type": "markdown",
   "id": "875c266b",
   "metadata": {},
   "source": [
    "### Final: Acc: 0.9212 none"
   ]
  },
  {
   "cell_type": "code",
   "execution_count": 225,
   "id": "a45e138b",
   "metadata": {},
   "outputs": [
    {
     "data": {
      "text/plain": [
       "RandomForestClassifier(max_depth=8, max_features=0.95, n_jobs=4, random_state=1)"
      ]
     },
     "execution_count": 225,
     "metadata": {},
     "output_type": "execute_result"
    }
   ],
   "source": [
    "model_rfc = RandomForestClassifier(n_jobs=4, random_state=1,\n",
    "        n_estimators=100, criterion='gini',  max_depth=8, max_features=0.95)\n",
    "model_rfc.fit(train_X, train_y)"
   ]
  },
  {
   "cell_type": "code",
   "execution_count": 226,
   "id": "9bde776d",
   "metadata": {},
   "outputs": [
    {
     "name": "stderr",
     "output_type": "stream",
     "text": [
      "/home/sandeep/anaconda3/envs/my_env1/lib/python3.7/site-packages/sklearn/base.py:444: UserWarning: X has feature names, but RandomForestClassifier was fitted without feature names\n",
      "  f\"X has feature names, but {self.__class__.__name__} was fitted without\"\n"
     ]
    },
    {
     "data": {
      "text/plain": [
       "0           SIRA\n",
       "1           CALI\n",
       "2          HOROZ\n",
       "3          SEKER\n",
       "4           CALI\n",
       "          ...   \n",
       "2495        SIRA\n",
       "2496    DERMASON\n",
       "2497       HOROZ\n",
       "2498        SIRA\n",
       "2499       SEKER\n",
       "Name: Class, Length: 2500, dtype: object"
      ]
     },
     "execution_count": 226,
     "metadata": {},
     "output_type": "execute_result"
    }
   ],
   "source": [
    "final_X['Class'] = model_rfc.predict(final_X.iloc[:,:16])\n",
    "final_X['Class'] = final_X['Class'].map(d_rev)\n",
    "final_X['Class'].to_csv('/home/sandeep/Development/Datasets/Agriculture/dphi_ds93_dry_bean/submission/sub6.csv', \n",
    "                   index=False)\n",
    "final_X['Class']"
   ]
  },
  {
   "cell_type": "code",
   "execution_count": null,
   "id": "16222c99",
   "metadata": {},
   "outputs": [],
   "source": []
  },
  {
   "cell_type": "code",
   "execution_count": null,
   "id": "519465d3",
   "metadata": {},
   "outputs": [],
   "source": []
  },
  {
   "cell_type": "code",
   "execution_count": null,
   "id": "6890a873",
   "metadata": {},
   "outputs": [],
   "source": []
  },
  {
   "cell_type": "code",
   "execution_count": null,
   "id": "358b7183",
   "metadata": {},
   "outputs": [],
   "source": []
  },
  {
   "cell_type": "code",
   "execution_count": 83,
   "id": "9d4f536d",
   "metadata": {},
   "outputs": [
    {
     "name": "stdout",
     "output_type": "stream",
     "text": [
      "MD:0.1, Acc: 0.8910, Prec: 0.8831,    Rec: 0.9026, F1: 0.8927\n",
      "MD:0.15, Acc: 0.8927, Prec: 0.8847,    Rec: 0.9046, F1: 0.8944\n",
      "MD:0.2, Acc: 0.8933, Prec: 0.8853,    Rec: 0.9048, F1: 0.8949\n",
      "MD:0.25, Acc: 0.8927, Prec: 0.8852,    Rec: 0.9037, F1: 0.8943\n"
     ]
    }
   ],
   "source": [
    "for i in [0.1,0.15,0.2,0.25]:\n",
    "    kfold = KFold(n_splits=5, shuffle=True, random_state=1)\n",
    "    fold=0\n",
    "    res = {'Acc':[], 'Prec':[],'Rec':[],'F1':[]}\n",
    "    for train_id, test_id in kfold.split(X_train, y_train):\n",
    "        fold+=1\n",
    "        model_xgb = XGBClassifier(use_label_encoder=False, eval_metric='logloss', n_jobs=4, random_state=1,\n",
    "                    n_estimators=300, max_depth=30, learning_rate=i, booster='gbtree', num_parallel_tree=1,\n",
    "                    colsample_bytree=0.5, colsample_bylevel=1, colsample_bynode=1)\n",
    "        model_xgb.fit(X_train[train_id], y_train[train_id])\n",
    "        preds_xgb = model_xgb.predict(X_train[test_id])\n",
    "        a = acc(y_train[test_id], preds_xgb);    p = ps(y_train[test_id], preds_xgb);\n",
    "        r = rs(y_train[test_id], preds_xgb);    f = f1(y_train[test_id], preds_xgb);\n",
    "#         print(f'Fold:{fold}, Acc: {a:0.4f}, Prec: {p:0.4f}, Rec: {r:0.4f}, F1: {f:0.4f}')\n",
    "        res['Acc'].append(a);     res['Prec'].append(p);    res['Rec'].append(r);    res['F1'].append(f) ;\n",
    "    print(f\"MD:{i}, Acc: {np.array(res['Acc']).mean():0.4f}, Prec: {np.array(res['Prec']).mean():0.4f},\\\n",
    "    Rec: {np.array(res['Rec']).mean():0.4f}, F1: {np.array(res['F1']).mean():0.4f}\")"
   ]
  }
 ],
 "metadata": {
  "kernelspec": {
   "display_name": "Python 3 (ipykernel)",
   "language": "python",
   "name": "python3"
  },
  "language_info": {
   "codemirror_mode": {
    "name": "ipython",
    "version": 3
   },
   "file_extension": ".py",
   "mimetype": "text/x-python",
   "name": "python",
   "nbconvert_exporter": "python",
   "pygments_lexer": "ipython3",
   "version": "3.7.13"
  }
 },
 "nbformat": 4,
 "nbformat_minor": 5
}
